{
 "cells": [
  {
   "cell_type": "markdown",
   "id": "a2cb2b965b616377",
   "metadata": {},
   "source": [
    "# Лабораторная работа по Теории кодирования\n",
    "## Лабораторная работа №3\n",
    "Выполнили студенты группы 6401-010302D\n",
    "\n",
    "Баловнева Юлия\n",
    "\n",
    "Богатырев Дмитрий\n"
   ]
  },
  {
   "cell_type": "code",
   "id": "7a2fe340b3ff7e61",
   "metadata": {
    "ExecuteTime": {
     "end_time": "2025-01-29T19:30:43.285670Z",
     "start_time": "2025-01-29T19:30:43.278402Z"
    }
   },
   "source": [
    "import numpy as np\n",
    "import itertools\n",
    "\n",
    "from numpy import dtype\n",
    "\n",
    "\n",
    "def mult(m1, m2):\n",
    "    '''Умножает две матрицы xor-ом и возвращает результат\n",
    "    :param:\n",
    "        m1: первая матрица\n",
    "        m2: вторая матрица\n",
    "        \n",
    "        :return: C: возвращает матрицу - xor-произведение двух матриц \n",
    "    '''\n",
    "    A = np.array(m1, dtype=int)\n",
    "    B = np.array(m2, dtype=int)\n",
    "    C = (A@B)%2\n",
    "    return np.array(C, dtype=bool)\n",
    "\n",
    "def code_length(matr):\n",
    "    '''Вычисляет кодовое расстояние массива переданных слов\n",
    "    :param:\n",
    "        matr: матрица - двумерный bool-массив - масиив двоичных слов\n",
    "        \n",
    "        :return: d: кодовое расстояние. \n",
    "    '''\n",
    "    d = len(matr[0])\n",
    "    for i in range(len(matr)-1):\n",
    "        for j in range(i+1,len(matr)):\n",
    "            # Ищем минимальное число единиц в множестве произведений i и j строк\n",
    "            d = min(d,sum(np.bitwise_xor(matr[i],matr[j])))\n",
    "    return d\n",
    "\n",
    "def create_verif_matr(X):\n",
    "    k = X.shape[1]\n",
    "    P = np.eye(k)\n",
    "    return np.vstack([X,P])\n",
    "\n",
    "def create_rref_matr(X):\n",
    "    k = X.shape[0]\n",
    "    P = np.eye(k)\n",
    "    return np.hstack([P,X])"
   ],
   "outputs": [],
   "execution_count": 69
  },
  {
   "cell_type": "code",
   "id": "2714373082c06ca7",
   "metadata": {
    "ExecuteTime": {
     "end_time": "2025-01-29T18:44:56.930851Z",
     "start_time": "2025-01-29T18:44:56.906369Z"
    }
   },
   "source": [
    "class LinearCode:\n",
    "    ''' Класс линейных кодов.\n",
    "\n",
    "    Атрибуты:\\n\n",
    "    matr: копия исходной матрицы\\n\n",
    "    k: количество строк матрицы\\n\n",
    "    n: количество столбцов матрицы\n",
    "    \n",
    "    '''\n",
    "    # Конструктор\n",
    "    def __init__(self, n_array):\n",
    "        self.matr = np.array(n_array, dtype=bool)\n",
    "        self.n = n_array.shape[1]\n",
    "        self.k = n_array.shape[0]\n",
    "    \n",
    "    def find_first(self, line):\n",
    "        '''Поиск первого ненулевого элемента в строке.\n",
    "        \n",
    "        :param:\n",
    "        line: строка матрицы.\n",
    "        \n",
    "        :return: h: возвращаем позицию первого ненулевого элемента в строке. \n",
    "        '''\n",
    "        # Задаем h = количеству элементов в сторке\n",
    "        h = self.n\n",
    "        # В строке line перебираем элементы пока не натолкнемся на 1\n",
    "        for i in range(self.n):\n",
    "            if self.matr[line,i]:\n",
    "                h = i\n",
    "                break\n",
    "        # Возвращаем позицию найденной единицы в строке\n",
    "        return h\n",
    "    \n",
    "    def xor_swap(self, line1, line2):\n",
    "        '''Меняет две строки местами с помощью поэлементного XOR.\n",
    "\n",
    "        :param:\n",
    "            line1: первая строка.\\n\n",
    "            line2: вторая строка.\n",
    "\n",
    "        '''\n",
    "        # Поэлементный XOR \n",
    "        for w in range(self.n):\n",
    "            self.matr[line1,w] ^= self.matr[line2,w]\n",
    "            self.matr[line2,w] ^= self.matr[line1,w]\n",
    "            self.matr[line1,w] ^= self.matr[line2,w]\n",
    "\n",
    "\n",
    "    def sum(self, line1, line2):\n",
    "        '''Складывает первую переданную строку со второй.\n",
    "\n",
    "        :param:\n",
    "            line1: первая строка.\\n\n",
    "            line2: вторая строка.\n",
    "        '''\n",
    "        # Поэлементный XOR \n",
    "        for w in range(self.n):\n",
    "            self.matr[line2,w] ^= self.matr[line1,w]\n",
    "\n",
    "    def __str__(self):\n",
    "        '''Собирает строку (смена типа от bool к string).\n",
    "\n",
    "        :return: s: строка с матрицей.            \n",
    "        '''\n",
    "        s = ''\n",
    "        for i in range(self.k):\n",
    "            s += '['\n",
    "            for j in range(self.n):\n",
    "                if self.matr[i,j]: s += \"1 \"\n",
    "                else: s += \"0 \"\n",
    "            s += \"\\b]\\n\"\n",
    "        return s\n",
    "    \n",
    "    def fillrand(self):\n",
    "        '''Заполняет матрицу случайным образом нулями и единицами.\n",
    "        \n",
    "        '''\n",
    "        rand = np.random\n",
    "        for i in range(self.k):\n",
    "            for j in range(self.n):\n",
    "                self.matr[i,j] = np.round(rand.random())\n",
    "\n",
    "    def sort(self):\n",
    "        '''Сортировка строк матрицы.\n",
    "        '''\n",
    "        # sort\n",
    "        for i in range(self.k):\n",
    "            for j in range(self.k-i-1):\n",
    "                if self.find_first(j) > self.find_first(j+1):\n",
    "                    self.xor_swap(j, j+1)\n",
    "\n",
    "    def ref(self):\n",
    "        '''Приводит матрицу к ступенчатому виду.\n",
    "        \n",
    "            ---\n",
    "            Ступенчатая матрица - такая матрица, что\n",
    "            * все ненулевые строки располагаются над всеми чисто нулевыми строками\n",
    "            * ведущий элемент (первый, считая слева направо, ненулевой элемент строки)\n",
    "            каждой ненулевой строки располагается строго правее ведущего элемента в\n",
    "            строке, расположенной выше данной.\n",
    "            ---\n",
    "        '''\n",
    "        # Проходит по всем строкм матрицы\n",
    "        for i in range(self.k-1):\n",
    "            # Сравнивает рабочую строку с текущей\n",
    "            for j in range(i+1, self.k):\n",
    "                # Запоминаем первые элементы\n",
    "                first_i = self.find_first(i)\n",
    "                first_j = self.find_first(j)\n",
    "                # Если они равны, то делаем xor со строкой\n",
    "                # Поскольку рабочая строка всегда ниже текущей, то при xor первый элемент всех нижних строк зануляется\n",
    "                if first_i == first_j:\n",
    "                    self.sum(i,j)\n",
    "                # Если встретили строку, у которой первый элемент раньше чем у текущей, то меняем строки местами\n",
    "                elif first_i > first_j:\n",
    "                    self.xor_swap(i,j)\n",
    "                # Иначе все хорошо, идем дальше\n",
    "        # Удаляем занулившиеся строки, которые могли бы получится\n",
    "        self.delete_redundant_lines()\n",
    "        \n",
    "\n",
    "    def rref(self):\n",
    "        '''Приводит матрицу к приведенному ступенчатому виду. \n",
    "        \n",
    "            ---\n",
    "            Ступенчатая матрица называется приведенной, если матрица,  не имеет нулевых строк, \n",
    "            и все ведущие элементы ее строк равны единице. При этом все элементы основных столбцов, \n",
    "            помимо ведущих элементов, являются нулями.\n",
    "            \n",
    "        '''\n",
    "        # Сначала приводим матрицу к ступенчатому виду\n",
    "        self.ref()\n",
    "        # Дальше для всех строк...\n",
    "        for i in range(1,self.k):\n",
    "            # ...мы ищем номер ведущего элемента строки...\n",
    "            ist = self.find_first(i)\n",
    "            # ...и делаем xor для всех строк выше текущей\n",
    "            for j in range(i-1,-1,-1):\n",
    "                if(self.matr[j,ist]):\n",
    "                    self.sum(i,j)\n",
    "            # Таким образом зануляются все элементы над ведущим\n",
    "        # Удаляем занулившиеся строки, которые могли бы получится\n",
    "        self.delete_redundant_lines()\n",
    "    \n",
    "\n",
    "    def delete_redundant_lines(self):\n",
    "        '''Удаляет нулевые строки из матрицы.\n",
    "        '''\n",
    "        # Копия матрицы, с которой ведется работа\n",
    "        temp = self.matr.copy()\n",
    "        offset = 0 # сдвиг\n",
    "        for i in range(self.k):\n",
    "            # Если номер первой единицы в строке == кол-ву элементов самой строки (то есть единиц там нет)\n",
    "            # Удаляем эту строку и сдвигаем указатель на 1\n",
    "            if self.find_first(i) == self.n:\n",
    "                temp = np.delete(temp, i - offset, 0)\n",
    "                offset += 1\n",
    "        # Перезаписываем матрицу на новую и очищенную\n",
    "        self.matr = temp\n",
    "        # Обновляем переменные-размеры матрицы\n",
    "        self.n = temp.shape[1]\n",
    "        self.k = temp.shape[0]\n",
    "\n",
    "    \n",
    "    def create_reduced_matr(self):\n",
    "        rrefed_matr = LinearCode(self.matr.copy())\n",
    "        rrefed_matr.rref()\n",
    "\n",
    "        # Определяем индексы ведущих элементов\n",
    "        leads = np.array([rrefed_matr.find_first(i) for i in range(rrefed_matr.k)])\n",
    "\n",
    "        # Создаем сокращенную матрицу \n",
    "        X = np.zeros(shape=(rrefed_matr.k,rrefed_matr.n-rrefed_matr.k), dtype=bool)\n",
    "        \n",
    "        # Заполняем ее значениями из ступенчатой\n",
    "        for i in range(rrefed_matr.k):\n",
    "            offset = 0 # сдвиг\n",
    "            for j in range(rrefed_matr.n):\n",
    "                # Если в столбце содержится ведущий элемент, то его пропускаем (и увеличиваем сдвиг на 1)\n",
    "                # Иначе добавляем этот элемент в сокращенную матрицу\n",
    "                if j in leads: \n",
    "                    offset+=1\n",
    "                else:\n",
    "                    X[i,j-offset] = rrefed_matr.matr[i,j]\n",
    "        return LinearCode(X)\n",
    "\n",
    "                \n",
    "    def create_verif_matr(self):\n",
    "        '''Создает проверочную матрицу на основе порождающей.\n",
    "        \n",
    "        :return: LinearCode(H): проверочная матрица. \n",
    "        '''\n",
    "        # Создаем новую матрицу в приведенном ступенчатом виде на основе текущей\n",
    "        rrefed_matr = LinearCode(self.matr.copy())\n",
    "        rrefed_matr.rref()\n",
    "\n",
    "        # Определяем индексы ведущих элементов\n",
    "        leads = np.array([rrefed_matr.find_first(i) for i in range(rrefed_matr.k)])\n",
    "\n",
    "        # Создаем сокращенную матрицу \n",
    "        X = np.zeros(shape=(rrefed_matr.k,rrefed_matr.n-rrefed_matr.k), dtype=bool)\n",
    "        \n",
    "        # Заполняем ее значениями из ступенчатой\n",
    "        for i in range(rrefed_matr.k):\n",
    "            offset = 0 # сдвиг\n",
    "            for j in range(rrefed_matr.n):\n",
    "                # Если в столбце содержится ведущий элемент, то его пропускаем (и увеличиваем сдвиг на 1)\n",
    "                # Иначе добавляем этот элемент в сокращенную матрицу\n",
    "                if j in leads: \n",
    "                    offset+=1\n",
    "                else:\n",
    "                    X[i,j-offset] = rrefed_matr.matr[i,j]\n",
    "\n",
    "        # Единичная матрица\n",
    "        Ind = np.identity(n = rrefed_matr.n-rrefed_matr.k, dtype = bool)\n",
    "\n",
    "        # Создаем проверочную матрицу\n",
    "        H = np.zeros(shape=(rrefed_matr.n,rrefed_matr.n-rrefed_matr.k), dtype=bool)\n",
    "        # сдвиги\n",
    "        offset_i = 0\n",
    "        offset_matr = 0\n",
    "        # Заполняем ее значениями\n",
    "        for i in range(H.shape[0]):\n",
    "            # Если номер строки содержится в массиве с ведущими элементами, то заполняем строку из сокращенной матрицы\n",
    "            # И прибавляем 1 к сдвигу для элементов единичной матрицы\n",
    "            if i in leads:\n",
    "                for j in range(H.shape[1]):\n",
    "                    H[i,j] = X[i-offset_matr,j]\n",
    "                offset_i += 1\n",
    "            # Иначе заполняем строку из единичной матрицы\n",
    "            # И прибавляем 1 к сдвику для матрицы сокращенной\n",
    "            else:\n",
    "                for j in range(H.shape[1]):\n",
    "                    H[i,j] = Ind[i-offset_i,j]\n",
    "                offset_matr += 1\n",
    "        \n",
    "        return LinearCode(H)\n",
    "    \n",
    "    def gen_codewords_summing(self):\n",
    "        ''' Формирует набор слов путем сложения всех слов из порождающего множества\n",
    "\n",
    "        :return: wordset: набор кодовых слов\n",
    "        '''\n",
    "        # Создаем пустой набор слов и доюавляем в него 0й элемент\n",
    "        wordset = set()\n",
    "        wordset.add(tuple((np.zeros(self.n, dtype=bool))))\n",
    "        # Для i числа строк\n",
    "        for i in range(1, self.k+1):\n",
    "            # Массив длинны i всех возможных комбинаций строк \n",
    "            combinations = np.array(list(itertools.combinations(range(self.k), i)))\n",
    "            for comb in combinations:\n",
    "                # Для каждой комбинации\n",
    "                # Создаем пустое слово\n",
    "                word = np.zeros(self.n, dtype=bool)\n",
    "                # Записываем в него сумму всех строк в текущей комбинации строк\n",
    "                for j in comb:\n",
    "                    word ^= self.matr[j]\n",
    "                # Добавляем слово в набор слов\n",
    "                wordset.add(tuple(word.tolist()))\n",
    "        return wordset\n",
    "    \n",
    "    def gen_codewords_bin(self):\n",
    "        ''' Формирует набор слов путем умножения всех двоичных слов длины k на G \n",
    "\n",
    "        :return: wordset: набор кодовых слов\n",
    "        '''\n",
    "        # Копия текущей матрицы\n",
    "        G = LinearCode(self.matr)\n",
    "        # Приводим в ступенчатому виду\n",
    "        G.ref\n",
    "        # Пустой набор слов\n",
    "        wordset = set()\n",
    "        # Набор всех возможных двоичных слов длины k\n",
    "        binset = set(tuple(itertools.product((True,False),repeat=self.k)))\n",
    "        # Для каждой комбинации\n",
    "        for bin in binset:\n",
    "            # Умножаем комбинацию на ступенчатую матрицу\n",
    "            # И записываем слово в набор\n",
    "            word = tuple((mult(bin,G.matr)).tolist())\n",
    "            wordset.add(word)\n",
    "        return wordset\n",
    "\n"
   ],
   "outputs": [],
   "execution_count": 18
  },
  {
   "metadata": {},
   "cell_type": "markdown",
   "source": "#### 3.1",
   "id": "9dc49f0ed35b1493"
  },
  {
   "metadata": {
    "ExecuteTime": {
     "end_time": "2025-01-29T19:30:46.788894Z",
     "start_time": "2025-01-29T19:30:46.782921Z"
    }
   },
   "cell_type": "code",
   "source": [
    "def create_X_for_Hamming(r):\n",
    "    all_bin_words = [np.ones(r, dtype=bool)]\n",
    "    for i in reversed(range(2, r)):\n",
    "        combinations = list(itertools.combinations(range(r), i))\n",
    "        for comb in combinations:\n",
    "            word = np.zeros(r, dtype=bool)\n",
    "            for j in comb:\n",
    "                word[j] = True\n",
    "            all_bin_words.append(word)\n",
    "    X = np.array(all_bin_words, dtype=bool)\n",
    "    return X\n",
    "\n",
    "def create_single_syndromes(H, k):\n",
    "    errors = np.eye(k, dtype=bool)\n",
    "    syndromes = dict()\n",
    "    for i in reversed(range(k)):\n",
    "        syndromes[tuple(mult(errors[i, :],H))] = errors[i, :]\n",
    "    return syndromes\n",
    "\n",
    "    \n",
    "def get_Hamming(r):\n",
    "    X = create_X_for_Hamming(r)\n",
    "    G = create_rref_matr(X)\n",
    "    H = create_verif_matr(X)\n",
    "    Syndromes = create_single_syndromes(H, G.shape[1])\n",
    "    return G, H, Syndromes\n",
    "    \n",
    "print(get_Hamming(3))\n",
    "    \n",
    "            "
   ],
   "id": "6c700a3f7d8dd7bd",
   "outputs": [
    {
     "name": "stdout",
     "output_type": "stream",
     "text": [
      "(array([[1., 0., 0., 0., 1., 1., 1.],\n",
      "       [0., 1., 0., 0., 1., 1., 0.],\n",
      "       [0., 0., 1., 0., 1., 0., 1.],\n",
      "       [0., 0., 0., 1., 0., 1., 1.]]), array([[1., 1., 1.],\n",
      "       [1., 1., 0.],\n",
      "       [1., 0., 1.],\n",
      "       [0., 1., 1.],\n",
      "       [1., 0., 0.],\n",
      "       [0., 1., 0.],\n",
      "       [0., 0., 1.]]), {(np.False_, np.False_, np.True_): array([False, False, False, False, False, False,  True]), (np.False_, np.True_, np.False_): array([False, False, False, False, False,  True, False]), (np.True_, np.False_, np.False_): array([False, False, False, False,  True, False, False]), (np.False_, np.True_, np.True_): array([False, False, False,  True, False, False, False]), (np.True_, np.False_, np.True_): array([False, False,  True, False, False, False, False]), (np.True_, np.True_, np.False_): array([False,  True, False, False, False, False, False]), (np.True_, np.True_, np.True_): array([ True, False, False, False, False, False, False])})\n"
     ]
    }
   ],
   "execution_count": 70
  },
  {
   "metadata": {},
   "cell_type": "markdown",
   "source": "#### 3.2",
   "id": "83ef8de52f0612fe"
  },
  {
   "cell_type": "code",
   "id": "67e5282fadbf4741",
   "metadata": {
    "ExecuteTime": {
     "end_time": "2025-01-29T19:30:52.544090Z",
     "start_time": "2025-01-29T19:30:52.539202Z"
    }
   },
   "source": [
    "G, H, syndromes = get_Hamming(3) # r задается тут\n",
    "print(\"G = \")\n",
    "print(G)\n",
    "\n",
    "print(\"H = \")\n",
    "print(H)"
   ],
   "outputs": [
    {
     "name": "stdout",
     "output_type": "stream",
     "text": [
      "G = \n",
      "[[1. 0. 0. 0. 1. 1. 1.]\n",
      " [0. 1. 0. 0. 1. 1. 0.]\n",
      " [0. 0. 1. 0. 1. 0. 1.]\n",
      " [0. 0. 0. 1. 0. 1. 1.]]\n",
      "H = \n",
      "[[1. 1. 1.]\n",
      " [1. 1. 0.]\n",
      " [1. 0. 1.]\n",
      " [0. 1. 1.]\n",
      " [1. 0. 0.]\n",
      " [0. 1. 0.]\n",
      " [0. 0. 1.]]\n"
     ]
    }
   ],
   "execution_count": 71
  },
  {
   "metadata": {
    "ExecuteTime": {
     "end_time": "2025-01-29T19:30:54.483591Z",
     "start_time": "2025-01-29T19:30:54.478198Z"
    }
   },
   "cell_type": "code",
   "source": [
    "errors = np.eye(G.shape[1], dtype=bool)\n",
    "\n",
    "word_K = (False, False, True, True)  # Слово длины k\n",
    "word_N = mult(word_K, G)  # Слово длины n\n",
    "print(\"Получившееся слово: \", word_N)\n",
    "\n",
    "word_err = word_N^errors[1]\n",
    "print(\"Слово с ошибкой: \", word_err)\n",
    "\n",
    "found_err = syndromes[tuple(mult(word_err, H))] # Нашли ошибку по таблице синдромов\n",
    "word_corr = word_err^found_err\n",
    "print(\"Исправленное слово: \", word_corr)\n",
    "print(\"Совпадает ли с изначальным словом: \", word_corr == word_N)\n",
    "\n",
    "# Обнаружил ошибку и исправил ее"
   ],
   "id": "ecaacf5478bef8c2",
   "outputs": [
    {
     "name": "stdout",
     "output_type": "stream",
     "text": [
      "Получившееся слово:  [False False  True  True  True  True False]\n",
      "Слово с ошибкой:  [False  True  True  True  True  True False]\n",
      "Исправленное слово:  [False False  True  True  True  True False]\n",
      "Совпадает ли с изначальным словом:  [ True  True  True  True  True  True  True]\n"
     ]
    }
   ],
   "execution_count": 72
  },
  {
   "metadata": {
    "ExecuteTime": {
     "end_time": "2025-01-29T19:04:29.604028Z",
     "start_time": "2025-01-29T19:04:29.598521Z"
    }
   },
   "cell_type": "code",
   "source": [
    "print(\"Получившееся слово: \", word_N)\n",
    "\n",
    "word_err = word_N^errors[1]^errors[2]\n",
    "print(\"Слово с ошибкой: \", word_err)\n",
    "\n",
    "found_err = syndromes[tuple(mult(word_err, H))] # Нашли ошибку по таблице синдромов\n",
    "word_corr = word_err^found_err\n",
    "print(\"Исправленное слово: \", word_corr)\n",
    "print(\"Совпадает ли с изначальным словом: \", word_corr == word_N)\n",
    "\n",
    "# Обнаружил ошибку и неправильно ее исправил"
   ],
   "id": "d0f84e5f4ce3f887",
   "outputs": [
    {
     "name": "stdout",
     "output_type": "stream",
     "text": [
      "Получившееся слово:  [False False  True  True  True  True False]\n",
      "Слово с ошибкой:  [False  True False  True  True  True False]\n",
      "Исправленное слово:  [False  True False False  True  True False]\n",
      "Совпадает ли с изначальным словом:  [ True False False False  True  True  True]\n"
     ]
    }
   ],
   "execution_count": 44
  },
  {
   "metadata": {
    "ExecuteTime": {
     "end_time": "2025-01-29T19:04:32.082439Z",
     "start_time": "2025-01-29T19:04:32.067175Z"
    }
   },
   "cell_type": "code",
   "source": [
    "print(\"Получившееся слово: \", word_N)\n",
    "\n",
    "word_err = word_N^errors[3]^errors[1]^errors[2]\n",
    "print(\"Слово с ошибкой: \", word_err)\n",
    "\n",
    "found_err = syndromes[tuple(mult(word_err, H))] # Нашли ошибку по таблице синдромов\n",
    "word_corr = word_err^found_err\n",
    "print(\"Исправленное слово: \", word_corr)\n",
    "print(\"Совпадает ли с изначальным словом: \", word_corr == word_N)\n",
    "\n",
    "# KeyError (False, False, False) -- считает что сообщение принято без ошибки"
   ],
   "id": "6dd1075ad7ddf84",
   "outputs": [
    {
     "name": "stdout",
     "output_type": "stream",
     "text": [
      "Получившееся слово:  [False False  True  True  True  True False]\n",
      "Слово с ошибкой:  [False  True False False  True  True False]\n"
     ]
    },
    {
     "ename": "KeyError",
     "evalue": "(np.False_, np.False_, np.False_)",
     "output_type": "error",
     "traceback": [
      "\u001B[1;31m---------------------------------------------------------------------------\u001B[0m",
      "\u001B[1;31mKeyError\u001B[0m                                  Traceback (most recent call last)",
      "Cell \u001B[1;32mIn[45], line 6\u001B[0m\n\u001B[0;32m      3\u001B[0m word_err \u001B[38;5;241m=\u001B[39m word_N\u001B[38;5;241m^\u001B[39merrors[\u001B[38;5;241m3\u001B[39m]\u001B[38;5;241m^\u001B[39merrors[\u001B[38;5;241m1\u001B[39m]\u001B[38;5;241m^\u001B[39merrors[\u001B[38;5;241m2\u001B[39m]\n\u001B[0;32m      4\u001B[0m \u001B[38;5;28mprint\u001B[39m(\u001B[38;5;124m\"\u001B[39m\u001B[38;5;124mСлово с ошибкой: \u001B[39m\u001B[38;5;124m\"\u001B[39m, word_err)\n\u001B[1;32m----> 6\u001B[0m found_err \u001B[38;5;241m=\u001B[39m \u001B[43msyndromes\u001B[49m\u001B[43m[\u001B[49m\u001B[38;5;28;43mtuple\u001B[39;49m\u001B[43m(\u001B[49m\u001B[43mmult\u001B[49m\u001B[43m(\u001B[49m\u001B[43mword_err\u001B[49m\u001B[43m,\u001B[49m\u001B[43m \u001B[49m\u001B[43mH\u001B[49m\u001B[43m)\u001B[49m\u001B[43m)\u001B[49m\u001B[43m]\u001B[49m \u001B[38;5;66;03m# Нашли ошибку по таблице синдромов\u001B[39;00m\n\u001B[0;32m      7\u001B[0m word_corr \u001B[38;5;241m=\u001B[39m word_err\u001B[38;5;241m^\u001B[39mfound_err\n\u001B[0;32m      8\u001B[0m \u001B[38;5;28mprint\u001B[39m(\u001B[38;5;124m\"\u001B[39m\u001B[38;5;124mИсправленное слово: \u001B[39m\u001B[38;5;124m\"\u001B[39m, word_corr)\n",
      "\u001B[1;31mKeyError\u001B[0m: (np.False_, np.False_, np.False_)"
     ]
    }
   ],
   "execution_count": 45
  },
  {
   "metadata": {},
   "cell_type": "markdown",
   "source": "#### 3.3",
   "id": "1ceae8673e17663e"
  },
  {
   "metadata": {
    "ExecuteTime": {
     "end_time": "2025-01-29T19:34:43.455504Z",
     "start_time": "2025-01-29T19:34:43.447153Z"
    }
   },
   "cell_type": "code",
   "source": [
    "def create_double_syndromes(H, k):\n",
    "    errors = np.eye(k, dtype=bool)\n",
    "    syndromes = dict()\n",
    "    for i in reversed(range(k)):\n",
    "        syndromes[tuple(mult(errors[i, :], H))] = errors[i, :]\n",
    "\n",
    "\n",
    "    combinations = list(itertools.combinations(range(k), 2))\n",
    "    for comb in combinations:\n",
    "        error_d = np.zeros(k, dtype=bool)\n",
    "        for i in comb:\n",
    "            error_d[i] = True\n",
    "        syndromes[tuple(mult(error_d,H))] = error_d\n",
    "    return syndromes\n",
    "\n",
    "    \n",
    "def get_ex_Hamming(r):\n",
    "    X = create_X_for_Hamming(r)\n",
    "    \n",
    "    H = create_verif_matr(X)\n",
    "    H_ex = np.hstack([np.vstack([H,[np.zeros(X.shape[1])]]),np.ones([H.shape[0]+1,1])])\n",
    "    \n",
    "    G = create_rref_matr(X)\n",
    "    b = np.zeros([G.shape[0], 1], dtype=bool)\n",
    "    for i in range(G.shape[0]):\n",
    "        if np.sum(G[i,:])%2:\n",
    "            b[i, :] = True\n",
    "    G_ex = np.hstack([G,b])\n",
    "    \n",
    "    Syndromes = create_single_syndromes(H_ex, G_ex.shape[1])\n",
    "    return G_ex, H_ex, Syndromes\n",
    "    \n",
    "print(get_ex_Hamming(3))\n",
    "    \n",
    "            "
   ],
   "id": "be395ca6888c9cd3",
   "outputs": [
    {
     "name": "stdout",
     "output_type": "stream",
     "text": [
      "(array([[1., 0., 0., 0., 1., 1., 1., 0.],\n",
      "       [0., 1., 0., 0., 1., 1., 0., 1.],\n",
      "       [0., 0., 1., 0., 1., 0., 1., 1.],\n",
      "       [0., 0., 0., 1., 0., 1., 1., 1.]]), array([[1., 1., 1., 1.],\n",
      "       [1., 1., 0., 1.],\n",
      "       [1., 0., 1., 1.],\n",
      "       [0., 1., 1., 1.],\n",
      "       [1., 0., 0., 1.],\n",
      "       [0., 1., 0., 1.],\n",
      "       [0., 0., 1., 1.],\n",
      "       [0., 0., 0., 1.]]), {(np.False_, np.False_, np.False_, np.True_): array([False, False, False, False, False, False, False,  True]), (np.False_, np.False_, np.True_, np.True_): array([False, False, False, False, False, False,  True, False]), (np.False_, np.True_, np.False_, np.True_): array([False, False, False, False, False,  True, False, False]), (np.True_, np.False_, np.False_, np.True_): array([False, False, False, False,  True, False, False, False]), (np.False_, np.True_, np.True_, np.True_): array([False, False, False,  True, False, False, False, False]), (np.True_, np.False_, np.True_, np.True_): array([False, False,  True, False, False, False, False, False]), (np.True_, np.True_, np.False_, np.True_): array([False,  True, False, False, False, False, False, False]), (np.True_, np.True_, np.True_, np.True_): array([ True, False, False, False, False, False, False, False])})\n"
     ]
    }
   ],
   "execution_count": 81
  },
  {
   "metadata": {},
   "cell_type": "markdown",
   "source": "#### 3.4",
   "id": "da5fb0a64d708262"
  },
  {
   "metadata": {
    "ExecuteTime": {
     "end_time": "2025-01-29T19:36:30.176678Z",
     "start_time": "2025-01-29T19:36:30.172708Z"
    }
   },
   "cell_type": "code",
   "source": [
    "G, H, syndromes = get_ex_Hamming(3) # r задается тут\n",
    "print(\"G = \")\n",
    "print(G)\n",
    "\n",
    "print(\"H = \")\n",
    "print(H)"
   ],
   "id": "d4171e0f25c7b8b5",
   "outputs": [
    {
     "name": "stdout",
     "output_type": "stream",
     "text": [
      "G = \n",
      "[[1. 0. 0. 0. 1. 1. 1. 0.]\n",
      " [0. 1. 0. 0. 1. 1. 0. 1.]\n",
      " [0. 0. 1. 0. 1. 0. 1. 1.]\n",
      " [0. 0. 0. 1. 0. 1. 1. 1.]]\n",
      "H = \n",
      "[[1. 1. 1. 1.]\n",
      " [1. 1. 0. 1.]\n",
      " [1. 0. 1. 1.]\n",
      " [0. 1. 1. 1.]\n",
      " [1. 0. 0. 1.]\n",
      " [0. 1. 0. 1.]\n",
      " [0. 0. 1. 1.]\n",
      " [0. 0. 0. 1.]]\n"
     ]
    }
   ],
   "execution_count": 82
  },
  {
   "metadata": {
    "ExecuteTime": {
     "end_time": "2025-01-29T19:38:09.122466Z",
     "start_time": "2025-01-29T19:38:09.105047Z"
    }
   },
   "cell_type": "code",
   "source": [
    "errors = np.eye(G.shape[1], dtype=bool)\n",
    "\n",
    "word_K = (False, True, True, False)  # Слово длины k\n",
    "word_N = mult(word_K, G)  # Слово длины n\n",
    "print(\"Получившееся слово: \", word_N)\n",
    "\n",
    "word_err = word_N ^ errors[1]\n",
    "print(\"Слово с ошибкой: \", word_err)\n",
    "\n",
    "found_err = syndromes[tuple(mult(word_err, H))]  # Нашли ошибку по таблице синдромов\n",
    "word_corr = word_err ^ found_err\n",
    "print(\"Исправленное слово: \", word_corr)\n",
    "print(\"Совпадает ли с изначальным словом: \", word_corr == word_N)\n",
    "\n",
    "# Обнаружил ошибку и исправил ее\n"
   ],
   "id": "89f8ef9e6d582b9e",
   "outputs": [
    {
     "name": "stdout",
     "output_type": "stream",
     "text": [
      "Получившееся слово:  [False  True  True False False  True  True False]\n",
      "Слово с ошибкой:  [False False  True False False  True  True False]\n",
      "Исправленное слово:  [False  True  True False False  True  True False]\n",
      "Совпадает ли с изначальным словом:  [ True  True  True  True  True  True  True  True]\n"
     ]
    }
   ],
   "execution_count": 88
  },
  {
   "metadata": {
    "ExecuteTime": {
     "end_time": "2025-01-29T19:38:10.547655Z",
     "start_time": "2025-01-29T19:38:10.534489Z"
    }
   },
   "cell_type": "code",
   "source": [
    "print(\"Получившееся слово: \", word_N)\n",
    "\n",
    "word_err = word_N ^ errors[1] ^ errors[2]\n",
    "print(\"Слово с ошибкой: \", word_err)\n",
    "\n",
    "found_err = syndromes[tuple(mult(word_err, H))]  # Нашли ошибку по таблице синдромов\n",
    "word_corr = word_err ^ found_err\n",
    "print(\"Исправленное слово: \", word_corr)\n",
    "print(\"Совпадает ли с изначальным словом: \", word_corr == word_N)\n",
    "\n",
    "# Обнаружил ошибку и понял что исправить ее не может -- в таблице синдромов ее нет"
   ],
   "id": "c341e67c0ed7e344",
   "outputs": [
    {
     "name": "stdout",
     "output_type": "stream",
     "text": [
      "Получившееся слово:  [False  True  True False False  True  True False]\n",
      "Слово с ошибкой:  [False False False False False  True  True False]\n"
     ]
    },
    {
     "ename": "KeyError",
     "evalue": "(np.False_, np.True_, np.True_, np.False_)",
     "output_type": "error",
     "traceback": [
      "\u001B[1;31m---------------------------------------------------------------------------\u001B[0m",
      "\u001B[1;31mKeyError\u001B[0m                                  Traceback (most recent call last)",
      "Cell \u001B[1;32mIn[89], line 6\u001B[0m\n\u001B[0;32m      3\u001B[0m word_err \u001B[38;5;241m=\u001B[39m word_N \u001B[38;5;241m^\u001B[39m errors[\u001B[38;5;241m1\u001B[39m] \u001B[38;5;241m^\u001B[39m errors[\u001B[38;5;241m2\u001B[39m]\n\u001B[0;32m      4\u001B[0m \u001B[38;5;28mprint\u001B[39m(\u001B[38;5;124m\"\u001B[39m\u001B[38;5;124mСлово с ошибкой: \u001B[39m\u001B[38;5;124m\"\u001B[39m, word_err)\n\u001B[1;32m----> 6\u001B[0m found_err \u001B[38;5;241m=\u001B[39m \u001B[43msyndromes\u001B[49m\u001B[43m[\u001B[49m\u001B[38;5;28;43mtuple\u001B[39;49m\u001B[43m(\u001B[49m\u001B[43mmult\u001B[49m\u001B[43m(\u001B[49m\u001B[43mword_err\u001B[49m\u001B[43m,\u001B[49m\u001B[43m \u001B[49m\u001B[43mH\u001B[49m\u001B[43m)\u001B[49m\u001B[43m)\u001B[49m\u001B[43m]\u001B[49m  \u001B[38;5;66;03m# Нашли ошибку по таблице синдромов\u001B[39;00m\n\u001B[0;32m      7\u001B[0m word_corr \u001B[38;5;241m=\u001B[39m word_err \u001B[38;5;241m^\u001B[39m found_err\n\u001B[0;32m      8\u001B[0m \u001B[38;5;28mprint\u001B[39m(\u001B[38;5;124m\"\u001B[39m\u001B[38;5;124mИсправленное слово: \u001B[39m\u001B[38;5;124m\"\u001B[39m, word_corr)\n",
      "\u001B[1;31mKeyError\u001B[0m: (np.False_, np.True_, np.True_, np.False_)"
     ]
    }
   ],
   "execution_count": 89
  },
  {
   "metadata": {
    "ExecuteTime": {
     "end_time": "2025-01-29T19:37:23.363387Z",
     "start_time": "2025-01-29T19:37:23.358193Z"
    }
   },
   "cell_type": "code",
   "source": [
    "print(\"Получившееся слово: \", word_N)\n",
    "\n",
    "word_err = word_N ^ errors[3] ^ errors[1] ^ errors[2]\n",
    "print(\"Слово с ошибкой: \", word_err)\n",
    "\n",
    "found_err = syndromes[tuple(mult(word_err, H))]  # Нашли ошибку по таблице синдромов\n",
    "word_corr = word_err ^ found_err\n",
    "print(\"Исправленное слово: \", word_corr)\n",
    "print(\"Совпадает ли с изначальным словом: \", word_corr == word_N)\n",
    "\n",
    "# Обнаружил ошибку и неправильно ее исправил"
   ],
   "id": "a1b3ad169f245789",
   "outputs": [
    {
     "name": "stdout",
     "output_type": "stream",
     "text": [
      "Получившееся слово:  [False False  True  True  True  True False False]\n",
      "Слово с ошибкой:  [False  True False False  True  True False False]\n",
      "Исправленное слово:  [False  True False False  True  True False  True]\n",
      "Совпадает ли с изначальным словом:  [ True False False False  True  True  True False]\n"
     ]
    }
   ],
   "execution_count": 85
  },
  {
   "metadata": {
    "ExecuteTime": {
     "end_time": "2025-01-29T19:41:09.893427Z",
     "start_time": "2025-01-29T19:41:09.875503Z"
    }
   },
   "cell_type": "code",
   "source": [
    "print(\"Получившееся слово: \", word_N)\n",
    "\n",
    "word_err = word_N ^ errors[5] ^ errors[3] ^ errors[1] ^ errors[2]\n",
    "print(\"Слово с ошибкой: \", word_err)\n",
    "\n",
    "found_err = syndromes[tuple(mult(word_err, H))]  # Нашли ошибку по таблице синдромов\n",
    "word_corr = word_err ^ found_err\n",
    "print(\"Исправленное слово: \", word_corr)\n",
    "print(\"Совпадает ли с изначальным словом: \", word_corr == word_N)\n",
    "# Обнаружил ошибку и понял что исправить ее не может -- в таблице синдромов ее нет"
   ],
   "id": "8ce580bffef4f854",
   "outputs": [
    {
     "name": "stdout",
     "output_type": "stream",
     "text": [
      "Получившееся слово:  [False  True  True False False  True  True False]\n",
      "Слово с ошибкой:  [False False False  True False False  True False]\n"
     ]
    },
    {
     "ename": "KeyError",
     "evalue": "(np.False_, np.True_, np.False_, np.False_)",
     "output_type": "error",
     "traceback": [
      "\u001B[1;31m---------------------------------------------------------------------------\u001B[0m",
      "\u001B[1;31mKeyError\u001B[0m                                  Traceback (most recent call last)",
      "Cell \u001B[1;32mIn[92], line 6\u001B[0m\n\u001B[0;32m      3\u001B[0m word_err \u001B[38;5;241m=\u001B[39m word_N \u001B[38;5;241m^\u001B[39m errors[\u001B[38;5;241m5\u001B[39m] \u001B[38;5;241m^\u001B[39m errors[\u001B[38;5;241m3\u001B[39m] \u001B[38;5;241m^\u001B[39m errors[\u001B[38;5;241m1\u001B[39m] \u001B[38;5;241m^\u001B[39m errors[\u001B[38;5;241m2\u001B[39m]\n\u001B[0;32m      4\u001B[0m \u001B[38;5;28mprint\u001B[39m(\u001B[38;5;124m\"\u001B[39m\u001B[38;5;124mСлово с ошибкой: \u001B[39m\u001B[38;5;124m\"\u001B[39m, word_err)\n\u001B[1;32m----> 6\u001B[0m found_err \u001B[38;5;241m=\u001B[39m \u001B[43msyndromes\u001B[49m\u001B[43m[\u001B[49m\u001B[38;5;28;43mtuple\u001B[39;49m\u001B[43m(\u001B[49m\u001B[43mmult\u001B[49m\u001B[43m(\u001B[49m\u001B[43mword_err\u001B[49m\u001B[43m,\u001B[49m\u001B[43m \u001B[49m\u001B[43mH\u001B[49m\u001B[43m)\u001B[49m\u001B[43m)\u001B[49m\u001B[43m]\u001B[49m  \u001B[38;5;66;03m# Нашли ошибку по таблице синдромов\u001B[39;00m\n\u001B[0;32m      7\u001B[0m word_corr \u001B[38;5;241m=\u001B[39m word_err \u001B[38;5;241m^\u001B[39m found_err\n\u001B[0;32m      8\u001B[0m \u001B[38;5;28mprint\u001B[39m(\u001B[38;5;124m\"\u001B[39m\u001B[38;5;124mИсправленное слово: \u001B[39m\u001B[38;5;124m\"\u001B[39m, word_corr)\n",
      "\u001B[1;31mKeyError\u001B[0m: (np.False_, np.True_, np.False_, np.False_)"
     ]
    }
   ],
   "execution_count": 92
  }
 ],
 "metadata": {
  "kernelspec": {
   "display_name": "Python 3 (ipykernel)",
   "language": "python",
   "name": "python3"
  },
  "language_info": {
   "codemirror_mode": {
    "name": "ipython",
    "version": 3
   },
   "file_extension": ".py",
   "mimetype": "text/x-python",
   "name": "python",
   "nbconvert_exporter": "python",
   "pygments_lexer": "ipython3",
   "version": "3.11.2"
  }
 },
 "nbformat": 4,
 "nbformat_minor": 5
}
