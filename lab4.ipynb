{
 "cells": [
  {
   "cell_type": "markdown",
   "id": "a2cb2b965b616377",
   "metadata": {},
   "source": [
    "# Лабораторная работа по Теории кодирования\n",
    "## Лабораторная работа №4\n",
    "Выполнили студенты группы 6401-010302D\n",
    "\n",
    "Баловнева Юлия\n",
    "\n",
    "Богатырев Дмитрий\n"
   ]
  },
  {
   "cell_type": "code",
   "id": "7a2fe340b3ff7e61",
   "metadata": {
    "ExecuteTime": {
     "end_time": "2025-02-05T14:29:42.605804Z",
     "start_time": "2025-02-05T14:29:42.598475Z"
    }
   },
   "source": [
    "import numpy as np\n",
    "import itertools\n",
    "\n",
    "\n",
    "def mult(m1, m2):\n",
    "    '''Умножает две матрицы xor-ом и возвращает результат\n",
    "    :param:\n",
    "        m1: первая матрица\n",
    "        m2: вторая матрица\n",
    "        \n",
    "        :return: C: возвращает матрицу - xor-произведение двух матриц \n",
    "    '''\n",
    "    A = np.array(m1, dtype=int)\n",
    "    B = np.array(m2, dtype=int)\n",
    "    C = (A@B)%2\n",
    "    return np.array(C, dtype=bool)\n",
    "\n",
    "def code_length(matr):\n",
    "    '''Вычисляет кодовое расстояние массива переданных слов\n",
    "    :param:\n",
    "        matr: матрица - двумерный bool-массив - масиив двоичных слов\n",
    "        \n",
    "        :return: d: кодовое расстояние. \n",
    "    '''\n",
    "    d = len(matr[0])\n",
    "    for i in range(len(matr)-1):\n",
    "        for j in range(i+1,len(matr)):\n",
    "            # Ищем минимальное число единиц в множестве произведений i и j строк\n",
    "            d = min(d,sum(np.bitwise_xor(matr[i],matr[j])))\n",
    "    return d\n",
    "\n",
    "def create_verif_matr(X):\n",
    "    '''\n",
    "    Создает проверочную матрицу, присоединяя к матрице X единичную матрицу сверху \n",
    "    :param X: матрица X\n",
    "    :return: проверочную матрицу\n",
    "    '''\n",
    "    k = X.shape[1]\n",
    "    P = np.eye(k,dtype=bool)\n",
    "    return np.vstack([P,X])\n",
    "\n",
    "def create_rref_matr(X):\n",
    "    '''\n",
    "    Создает порождающую матрицу, присоединяя к матрице X единичную матрицу слева\n",
    "    :param X: матрица X\n",
    "    :return: порождающую матрицу\n",
    "    '''\n",
    "    k = X.shape[0]\n",
    "    P = np.eye(k,dtype=bool)\n",
    "    return np.hstack([P,X])"
   ],
   "outputs": [],
   "execution_count": 9
  },
  {
   "cell_type": "code",
   "id": "2714373082c06ca7",
   "metadata": {
    "ExecuteTime": {
     "end_time": "2025-02-05T14:29:42.630559Z",
     "start_time": "2025-02-05T14:29:42.611814Z"
    }
   },
   "source": [
    "class LinearCode:\n",
    "    ''' Класс линейных кодов.\n",
    "\n",
    "    Атрибуты:\\n\n",
    "    matr: копия исходной матрицы\\n\n",
    "    k: количество строк матрицы\\n\n",
    "    n: количество столбцов матрицы\n",
    "    \n",
    "    '''\n",
    "    # Конструктор\n",
    "    def __init__(self, n_array):\n",
    "        self.matr = np.array(n_array, dtype=bool)\n",
    "        self.n = n_array.shape[1]\n",
    "        self.k = n_array.shape[0]\n",
    "    \n",
    "    def find_first(self, line):\n",
    "        '''Поиск первого ненулевого элемента в строке.\n",
    "        \n",
    "        :param:\n",
    "        line: строка матрицы.\n",
    "        \n",
    "        :return: h: возвращаем позицию первого ненулевого элемента в строке. \n",
    "        '''\n",
    "        # Задаем h = количеству элементов в сторке\n",
    "        h = self.n\n",
    "        # В строке line перебираем элементы пока не натолкнемся на 1\n",
    "        for i in range(self.n):\n",
    "            if self.matr[line,i]:\n",
    "                h = i\n",
    "                break\n",
    "        # Возвращаем позицию найденной единицы в строке\n",
    "        return h\n",
    "    \n",
    "    def xor_swap(self, line1, line2):\n",
    "        '''Меняет две строки местами с помощью поэлементного XOR.\n",
    "\n",
    "        :param:\n",
    "            line1: первая строка.\\n\n",
    "            line2: вторая строка.\n",
    "\n",
    "        '''\n",
    "        # Поэлементный XOR \n",
    "        for w in range(self.n):\n",
    "            self.matr[line1,w] ^= self.matr[line2,w]\n",
    "            self.matr[line2,w] ^= self.matr[line1,w]\n",
    "            self.matr[line1,w] ^= self.matr[line2,w]\n",
    "\n",
    "\n",
    "    def sum(self, line1, line2):\n",
    "        '''Складывает первую переданную строку со второй.\n",
    "\n",
    "        :param:\n",
    "            line1: первая строка.\\n\n",
    "            line2: вторая строка.\n",
    "        '''\n",
    "        # Поэлементный XOR \n",
    "        for w in range(self.n):\n",
    "            self.matr[line2,w] ^= self.matr[line1,w]\n",
    "\n",
    "    def __str__(self):\n",
    "        '''Собирает строку (смена типа от bool к string).\n",
    "\n",
    "        :return: s: строка с матрицей.            \n",
    "        '''\n",
    "        s = ''\n",
    "        for i in range(self.k):\n",
    "            s += '['\n",
    "            for j in range(self.n):\n",
    "                if self.matr[i,j]: s += \"1 \"\n",
    "                else: s += \"0 \"\n",
    "            s += \"\\b]\\n\"\n",
    "        return s\n",
    "    \n",
    "    def fillrand(self):\n",
    "        '''Заполняет матрицу случайным образом нулями и единицами.\n",
    "        \n",
    "        '''\n",
    "        rand = np.random\n",
    "        for i in range(self.k):\n",
    "            for j in range(self.n):\n",
    "                self.matr[i,j] = np.round(rand.random())\n",
    "\n",
    "    def sort(self):\n",
    "        '''Сортировка строк матрицы.\n",
    "        '''\n",
    "        # sort\n",
    "        for i in range(self.k):\n",
    "            for j in range(self.k-i-1):\n",
    "                if self.find_first(j) > self.find_first(j+1):\n",
    "                    self.xor_swap(j, j+1)\n",
    "\n",
    "    def ref(self):\n",
    "        '''Приводит матрицу к ступенчатому виду.\n",
    "        \n",
    "            ---\n",
    "            Ступенчатая матрица - такая матрица, что\n",
    "            * все ненулевые строки располагаются над всеми чисто нулевыми строками\n",
    "            * ведущий элемент (первый, считая слева направо, ненулевой элемент строки)\n",
    "            каждой ненулевой строки располагается строго правее ведущего элемента в\n",
    "            строке, расположенной выше данной.\n",
    "            ---\n",
    "        '''\n",
    "        # Проходит по всем строкм матрицы\n",
    "        for i in range(self.k-1):\n",
    "            # Сравнивает рабочую строку с текущей\n",
    "            for j in range(i+1, self.k):\n",
    "                # Запоминаем первые элементы\n",
    "                first_i = self.find_first(i)\n",
    "                first_j = self.find_first(j)\n",
    "                # Если они равны, то делаем xor со строкой\n",
    "                # Поскольку рабочая строка всегда ниже текущей, то при xor первый элемент всех нижних строк зануляется\n",
    "                if first_i == first_j:\n",
    "                    self.sum(i,j)\n",
    "                # Если встретили строку, у которой первый элемент раньше чем у текущей, то меняем строки местами\n",
    "                elif first_i > first_j:\n",
    "                    self.xor_swap(i,j)\n",
    "                # Иначе все хорошо, идем дальше\n",
    "        # Удаляем занулившиеся строки, которые могли бы получится\n",
    "        self.delete_redundant_lines()\n",
    "        \n",
    "\n",
    "    def rref(self):\n",
    "        '''Приводит матрицу к приведенному ступенчатому виду. \n",
    "        \n",
    "            ---\n",
    "            Ступенчатая матрица называется приведенной, если матрица,  не имеет нулевых строк, \n",
    "            и все ведущие элементы ее строк равны единице. При этом все элементы основных столбцов, \n",
    "            помимо ведущих элементов, являются нулями.\n",
    "            \n",
    "        '''\n",
    "        # Сначала приводим матрицу к ступенчатому виду\n",
    "        self.ref()\n",
    "        # Дальше для всех строк...\n",
    "        for i in range(1,self.k):\n",
    "            # ...мы ищем номер ведущего элемента строки...\n",
    "            ist = self.find_first(i)\n",
    "            # ...и делаем xor для всех строк выше текущей\n",
    "            for j in range(i-1,-1,-1):\n",
    "                if(self.matr[j,ist]):\n",
    "                    self.sum(i,j)\n",
    "            # Таким образом зануляются все элементы над ведущим\n",
    "        # Удаляем занулившиеся строки, которые могли бы получится\n",
    "        self.delete_redundant_lines()\n",
    "    \n",
    "\n",
    "    def delete_redundant_lines(self):\n",
    "        '''Удаляет нулевые строки из матрицы.\n",
    "        '''\n",
    "        # Копия матрицы, с которой ведется работа\n",
    "        temp = self.matr.copy()\n",
    "        offset = 0 # сдвиг\n",
    "        for i in range(self.k):\n",
    "            # Если номер первой единицы в строке == кол-ву элементов самой строки (то есть единиц там нет)\n",
    "            # Удаляем эту строку и сдвигаем указатель на 1\n",
    "            if self.find_first(i) == self.n:\n",
    "                temp = np.delete(temp, i - offset, 0)\n",
    "                offset += 1\n",
    "        # Перезаписываем матрицу на новую и очищенную\n",
    "        self.matr = temp\n",
    "        # Обновляем переменные-размеры матрицы\n",
    "        self.n = temp.shape[1]\n",
    "        self.k = temp.shape[0]\n",
    "\n",
    "    \n",
    "    def create_reduced_matr(self):\n",
    "        '''\n",
    "        Создает сокращенную матрицу X из текущей матрицы объекта\n",
    "        :return: LinearCode(X) сокращенная матрица\n",
    "        '''\n",
    "        rrefed_matr = LinearCode(self.matr.copy())\n",
    "        rrefed_matr.rref()\n",
    "\n",
    "        # Определяем индексы ведущих элементов\n",
    "        leads = np.array([rrefed_matr.find_first(i) for i in range(rrefed_matr.k)])\n",
    "\n",
    "        # Создаем сокращенную матрицу \n",
    "        X = np.zeros(shape=(rrefed_matr.k,rrefed_matr.n-rrefed_matr.k), dtype=bool)\n",
    "        \n",
    "        # Заполняем ее значениями из ступенчатой\n",
    "        for i in range(rrefed_matr.k):\n",
    "            offset = 0 # сдвиг\n",
    "            for j in range(rrefed_matr.n):\n",
    "                # Если в столбце содержится ведущий элемент, то его пропускаем (и увеличиваем сдвиг на 1)\n",
    "                # Иначе добавляем этот элемент в сокращенную матрицу\n",
    "                if j in leads: \n",
    "                    offset+=1\n",
    "                else:\n",
    "                    X[i,j-offset] = rrefed_matr.matr[i,j]\n",
    "        return LinearCode(X)\n",
    "\n",
    "                \n",
    "    def create_verif_matr(self):\n",
    "        '''Создает проверочную матрицу на основе порождающей.\n",
    "        \n",
    "        :return: LinearCode(H): проверочная матрица. \n",
    "        '''\n",
    "        # Создаем новую матрицу в приведенном ступенчатом виде на основе текущей\n",
    "        rrefed_matr = LinearCode(self.matr.copy())\n",
    "        rrefed_matr.rref()\n",
    "\n",
    "        # Определяем индексы ведущих элементов\n",
    "        leads = np.array([rrefed_matr.find_first(i) for i in range(rrefed_matr.k)])\n",
    "\n",
    "        # Создаем сокращенную матрицу \n",
    "        X = np.zeros(shape=(rrefed_matr.k,rrefed_matr.n-rrefed_matr.k), dtype=bool)\n",
    "        \n",
    "        # Заполняем ее значениями из ступенчатой\n",
    "        for i in range(rrefed_matr.k):\n",
    "            offset = 0 # сдвиг\n",
    "            for j in range(rrefed_matr.n):\n",
    "                # Если в столбце содержится ведущий элемент, то его пропускаем (и увеличиваем сдвиг на 1)\n",
    "                # Иначе добавляем этот элемент в сокращенную матрицу\n",
    "                if j in leads: \n",
    "                    offset+=1\n",
    "                else:\n",
    "                    X[i,j-offset] = rrefed_matr.matr[i,j]\n",
    "\n",
    "        # Единичная матрица\n",
    "        Ind = np.identity(n = rrefed_matr.n-rrefed_matr.k, dtype = bool)\n",
    "\n",
    "        # Создаем проверочную матрицу\n",
    "        H = np.zeros(shape=(rrefed_matr.n,rrefed_matr.n-rrefed_matr.k), dtype=bool)\n",
    "        # сдвиги\n",
    "        offset_i = 0\n",
    "        offset_matr = 0\n",
    "        # Заполняем ее значениями\n",
    "        for i in range(H.shape[0]):\n",
    "            # Если номер строки содержится в массиве с ведущими элементами, то заполняем строку из сокращенной матрицы\n",
    "            # И прибавляем 1 к сдвигу для элементов единичной матрицы\n",
    "            if i in leads:\n",
    "                for j in range(H.shape[1]):\n",
    "                    H[i,j] = X[i-offset_matr,j]\n",
    "                offset_i += 1\n",
    "            # Иначе заполняем строку из единичной матрицы\n",
    "            # И прибавляем 1 к сдвику для матрицы сокращенной\n",
    "            else:\n",
    "                for j in range(H.shape[1]):\n",
    "                    H[i,j] = Ind[i-offset_i,j]\n",
    "                offset_matr += 1\n",
    "        \n",
    "        return LinearCode(H)\n",
    "    \n",
    "    def gen_codewords_summing(self):\n",
    "        ''' Формирует набор слов путем сложения всех слов из порождающего множества\n",
    "\n",
    "        :return: wordset: набор кодовых слов\n",
    "        '''\n",
    "        # Создаем пустой набор слов и доюавляем в него 0й элемент\n",
    "        wordset = set()\n",
    "        wordset.add(tuple((np.zeros(self.n, dtype=bool))))\n",
    "        # Для i числа строк\n",
    "        for i in range(1, self.k+1):\n",
    "            # Массив длинны i всех возможных комбинаций строк \n",
    "            combinations = np.array(list(itertools.combinations(range(self.k), i)))\n",
    "            for comb in combinations:\n",
    "                # Для каждой комбинации\n",
    "                # Создаем пустое слово\n",
    "                word = np.zeros(self.n, dtype=bool)\n",
    "                # Записываем в него сумму всех строк в текущей комбинации строк\n",
    "                for j in comb:\n",
    "                    word ^= self.matr[j]\n",
    "                # Добавляем слово в набор слов\n",
    "                wordset.add(tuple(word.tolist()))\n",
    "        return wordset\n",
    "    \n",
    "    def gen_codewords_bin(self):\n",
    "        ''' Формирует набор слов путем умножения всех двоичных слов длины k на G \n",
    "\n",
    "        :return: wordset: набор кодовых слов\n",
    "        '''\n",
    "        # Копия текущей матрицы\n",
    "        G = LinearCode(self.matr)\n",
    "        # Приводим в ступенчатому виду\n",
    "        G.ref\n",
    "        # Пустой набор слов\n",
    "        wordset = set()\n",
    "        # Набор всех возможных двоичных слов длины k\n",
    "        binset = set(tuple(itertools.product((True,False),repeat=self.k)))\n",
    "        # Для каждой комбинации\n",
    "        for bin in binset:\n",
    "            # Умножаем комбинацию на ступенчатую матрицу\n",
    "            # И записываем слово в набор\n",
    "            word = tuple((mult(bin,G.matr)).tolist())\n",
    "            wordset.add(word)\n",
    "        return wordset\n",
    "\n"
   ],
   "outputs": [],
   "execution_count": 10
  },
  {
   "metadata": {},
   "cell_type": "markdown",
   "source": [
    "### Часть 1\n",
    "#### 4.1"
   ],
   "id": "9dc49f0ed35b1493"
  },
  {
   "metadata": {
    "ExecuteTime": {
     "end_time": "2025-02-05T14:29:42.653602Z",
     "start_time": "2025-02-05T14:29:42.642200Z"
    }
   },
   "cell_type": "code",
   "source": [
    "def create_X_for_Golay():\n",
    "    '''\n",
    "    :return: Расширенный код Голея (24,12,8)\n",
    "    '''\n",
    "    B = [[1,1,0,1,1,1,0,0,0,1,0,1],\n",
    "         [1,0,1,1,1,0,0,0,1,0,1,1],\n",
    "         [0,1,1,1,0,0,0,1,0,1,1,1],\n",
    "         [1,1,1,0,0,0,1,0,1,1,0,1],\n",
    "         [1,1,0,0,0,1,0,1,1,0,1,1],\n",
    "         [1,0,0,0,1,0,1,1,0,1,1,1],\n",
    "         [0,0,0,1,0,1,1,0,1,1,1,1],\n",
    "         [0,0,1,0,1,1,0,1,1,1,0,1],\n",
    "         [0,1,0,1,1,0,1,1,1,0,0,1],\n",
    "         [1,0,1,1,0,1,1,1,0,0,0,1],\n",
    "         [0,1,1,0,1,1,1,0,0,0,1,1],\n",
    "         [1,1,1,1,1,1,1,1,1,1,1,0]]\n",
    "    return np.array(B,dtype=bool)\n",
    "\n",
    "    \n",
    "def get_Golay():\n",
    "    '''\n",
    "    Функция, создающая проверочную и порождающую матрицы для кода Голея (24,12,8)\n",
    "    :return: G - порождающая матрица, H - проверочная матрица\n",
    "    '''\n",
    "    B = create_X_for_Golay() # Матрица B\n",
    "    G = create_rref_matr(B) # Дополняем сокращенную матрицу единичной слева - получаем порождающую\n",
    "    H = create_verif_matr(B) # Дополняем сокращенную матрицу единичной сверху - получаем проверочную\n",
    "    return G, H\n",
    "\n",
    "def check_Golay(w, H, G, B):\n",
    "    '''\n",
    "    Функция декодирования расширенного кода Голея\n",
    "    :param w: передаваемое закодированное слово\n",
    "    :param H: проверочная матрица\n",
    "    :param G: порождающая матрица\n",
    "    :param B: сокращенная матрица\n",
    "    :return: u - декодированное слово\n",
    "    '''\n",
    "    s = mult(w, H) # Вычисляем синдром\n",
    "    # Если вес синдрома <=3, дополняем синдром нулями справа и получаем исходное слово; возвращаем его \n",
    "    if np.sum(s) <= 3:\n",
    "        u = np.hstack((s,np.zeros([B.shape[0]],dtype=bool)))\n",
    "        return u\n",
    "    \n",
    "    # Если вес суммы синдрома и i-ой строки из B <= 2, дополняем эту сумму строкой с единственной единицей в позиции i справа\n",
    "    # и получаем исходное слово; возвращаем его\n",
    "    for i in range(B.shape[0]):\n",
    "        if np.sum(s+B[i,:]) <= 2:\n",
    "            e = np.zeros((B.shape[0]),dtype=bool)\n",
    "            e[0, i] = True\n",
    "            u = np.hstack((s+B[i,:],e),dtype=bool)\n",
    "            return u\n",
    "        \n",
    "    sB = mult(s, B) # Вычисляем второй синдром\n",
    "    # Если вес синдрома <= 3, дополняем его нулями слева и получаем исходное слово; возвращаем его\n",
    "    if np.sum(s) <= 3:\n",
    "        u = np.hstack((np.zeros([B.shape[0]],dtype=bool),sB))\n",
    "        return u\n",
    "    \n",
    "    # Если вес суммы синдрома и i-ой строки из B <= 2, дополняем эту сумму строкой с единственной единицей в позиции i слева\n",
    "    # и получаем исходное слово; возвращаем его\n",
    "    for i in range(B.shape[0]):\n",
    "        if np.sum(sB+B[i,:]) <= 2:\n",
    "            e = np.zeros((B.shape[0]),dtype=bool)\n",
    "            e[0, i] = True\n",
    "            u = np.hstack((e,sB+B[i,:]))\n",
    "            return u\n",
    "    # Ошибка не определена\n",
    "    print(\"Unable to detect\")\n",
    "    return -1\n",
    "    \n",
    "    \n",
    "print(\"G = \")\n",
    "G,H = get_Golay()\n",
    "print(LinearCode(G))\n",
    "print(\"H = \")\n",
    "print(LinearCode(H))"
   ],
   "id": "6c700a3f7d8dd7bd",
   "outputs": [
    {
     "name": "stdout",
     "output_type": "stream",
     "text": [
      "G = \n",
      "[1 0 0 0 0 0 0 0 0 0 0 0 1 1 0 1 1 1 0 0 0 1 0 1]\n",
      "[0 1 0 0 0 0 0 0 0 0 0 0 1 0 1 1 1 0 0 0 1 0 1 1]\n",
      "[0 0 1 0 0 0 0 0 0 0 0 0 0 1 1 1 0 0 0 1 0 1 1 1]\n",
      "[0 0 0 1 0 0 0 0 0 0 0 0 1 1 1 0 0 0 1 0 1 1 0 1]\n",
      "[0 0 0 0 1 0 0 0 0 0 0 0 1 1 0 0 0 1 0 1 1 0 1 1]\n",
      "[0 0 0 0 0 1 0 0 0 0 0 0 1 0 0 0 1 0 1 1 0 1 1 1]\n",
      "[0 0 0 0 0 0 1 0 0 0 0 0 0 0 0 1 0 1 1 0 1 1 1 1]\n",
      "[0 0 0 0 0 0 0 1 0 0 0 0 0 0 1 0 1 1 0 1 1 1 0 1]\n",
      "[0 0 0 0 0 0 0 0 1 0 0 0 0 1 0 1 1 0 1 1 1 0 0 1]\n",
      "[0 0 0 0 0 0 0 0 0 1 0 0 1 0 1 1 0 1 1 1 0 0 0 1]\n",
      "[0 0 0 0 0 0 0 0 0 0 1 0 0 1 1 0 1 1 1 0 0 0 1 1]\n",
      "[0 0 0 0 0 0 0 0 0 0 0 1 1 1 1 1 1 1 1 1 1 1 1 0]\n",
      "\n",
      "H = \n",
      "[1 0 0 0 0 0 0 0 0 0 0 0]\n",
      "[0 1 0 0 0 0 0 0 0 0 0 0]\n",
      "[0 0 1 0 0 0 0 0 0 0 0 0]\n",
      "[0 0 0 1 0 0 0 0 0 0 0 0]\n",
      "[0 0 0 0 1 0 0 0 0 0 0 0]\n",
      "[0 0 0 0 0 1 0 0 0 0 0 0]\n",
      "[0 0 0 0 0 0 1 0 0 0 0 0]\n",
      "[0 0 0 0 0 0 0 1 0 0 0 0]\n",
      "[0 0 0 0 0 0 0 0 1 0 0 0]\n",
      "[0 0 0 0 0 0 0 0 0 1 0 0]\n",
      "[0 0 0 0 0 0 0 0 0 0 1 0]\n",
      "[0 0 0 0 0 0 0 0 0 0 0 1]\n",
      "[1 1 0 1 1 1 0 0 0 1 0 1]\n",
      "[1 0 1 1 1 0 0 0 1 0 1 1]\n",
      "[0 1 1 1 0 0 0 1 0 1 1 1]\n",
      "[1 1 1 0 0 0 1 0 1 1 0 1]\n",
      "[1 1 0 0 0 1 0 1 1 0 1 1]\n",
      "[1 0 0 0 1 0 1 1 0 1 1 1]\n",
      "[0 0 0 1 0 1 1 0 1 1 1 1]\n",
      "[0 0 1 0 1 1 0 1 1 1 0 1]\n",
      "[0 1 0 1 1 0 1 1 1 0 0 1]\n",
      "[1 0 1 1 0 1 1 1 0 0 0 1]\n",
      "[0 1 1 0 1 1 1 0 0 0 1 1]\n",
      "[1 1 1 1 1 1 1 1 1 1 1 0]\n",
      "\n"
     ]
    }
   ],
   "execution_count": 11
  },
  {
   "metadata": {},
   "cell_type": "markdown",
   "source": "#### 4.2",
   "id": "83ef8de52f0612fe"
  },
  {
   "metadata": {
    "ExecuteTime": {
     "end_time": "2025-02-05T14:29:42.701974Z",
     "start_time": "2025-02-05T14:29:42.696291Z"
    }
   },
   "cell_type": "code",
   "source": [
    "errors = np.eye(G.shape[1], dtype=bool)\n",
    "\n",
    "sw = np.array([0,0,0,0,1,0,0,1,0,1,0,0],dtype=bool)  # Слово длины k  # Слово длины n\n",
    "w = mult(sw,G)\n",
    "print(\"Получившееся слово: \", w)\n",
    "\n",
    "word_err = w^errors[1] # Внесение ошибки\n",
    "print(\"Слово с ошибкой: \", word_err)\n",
    "\n",
    "found_err = check_Golay(word_err,H,G,create_X_for_Golay()) # Нашли ошибку по таблице синдромов\n",
    "print(\"U = \", found_err)\n",
    "word_corr = word_err^found_err # Исправление ошибки\n",
    "print(\"Исправленное слово: \", word_corr)\n",
    "print(\"Совпадает ли с изначальным словом: \", word_corr == w)\n",
    "\n",
    "# Обнаружил ошибку и исправил ее"
   ],
   "id": "ecaacf5478bef8c2",
   "outputs": [
    {
     "name": "stdout",
     "output_type": "stream",
     "text": [
      "Получившееся слово:  [False False False False  True False False  True False  True False False\n",
      " False  True False  True  True  True  True  True False  True  True  True]\n",
      "Слово с ошибкой:  [False  True False False  True False False  True False  True False False\n",
      " False  True False  True  True  True  True  True False  True  True  True]\n",
      "U =  [False  True False False False False False False False False False False\n",
      " False False False False False False False False False False False False]\n",
      "Исправленное слово:  [False False False False  True False False  True False  True False False\n",
      " False  True False  True  True  True  True  True False  True  True  True]\n",
      "Совпадает ли с изначальным словом:  [ True  True  True  True  True  True  True  True  True  True  True  True\n",
      "  True  True  True  True  True  True  True  True  True  True  True  True]\n"
     ]
    }
   ],
   "execution_count": 12
  },
  {
   "metadata": {
    "ExecuteTime": {
     "end_time": "2025-02-05T14:29:42.755735Z",
     "start_time": "2025-02-05T14:29:42.750420Z"
    }
   },
   "cell_type": "code",
   "source": [
    "print(\"Получившееся слово: \", w)\n",
    "\n",
    "word_err = w^errors[1]^errors[2] # Внесение ошибки\n",
    "print(\"Слово с ошибкой: \", word_err)\n",
    "\n",
    "found_err = check_Golay(word_err,H,G,create_X_for_Golay()) # Нашли ошибку по таблице синдромов\n",
    "print(\"U = \", found_err)\n",
    "word_corr = word_err^found_err # Исправление ошибки\n",
    "print(\"Исправленное слово: \", word_corr)\n",
    "print(\"Совпадает ли с изначальным словом: \", word_corr == w)\n",
    "\n",
    "# Обнаружил ошибку и исправил ее"
   ],
   "id": "d0f84e5f4ce3f887",
   "outputs": [
    {
     "name": "stdout",
     "output_type": "stream",
     "text": [
      "Получившееся слово:  [False False False False  True False False  True False  True False False\n",
      " False  True False  True  True  True  True  True False  True  True  True]\n",
      "Слово с ошибкой:  [False  True  True False  True False False  True False  True False False\n",
      " False  True False  True  True  True  True  True False  True  True  True]\n",
      "U =  [False  True  True False False False False False False False False False\n",
      " False False False False False False False False False False False False]\n",
      "Исправленное слово:  [False False False False  True False False  True False  True False False\n",
      " False  True False  True  True  True  True  True False  True  True  True]\n",
      "Совпадает ли с изначальным словом:  [ True  True  True  True  True  True  True  True  True  True  True  True\n",
      "  True  True  True  True  True  True  True  True  True  True  True  True]\n"
     ]
    }
   ],
   "execution_count": 13
  },
  {
   "metadata": {
    "ExecuteTime": {
     "end_time": "2025-02-05T14:29:42.797400Z",
     "start_time": "2025-02-05T14:29:42.791761Z"
    }
   },
   "cell_type": "code",
   "source": [
    "print(\"Получившееся слово: \", w)\n",
    "\n",
    "word_err = w^errors[1]^errors[2]^errors[3] # Внесение ошибки\n",
    "print(\"Слово с ошибкой: \", word_err)\n",
    "\n",
    "found_err = check_Golay(word_err,H,G,create_X_for_Golay()) # Нашли ошибку по таблице синдромов\n",
    "print(\"U = \", found_err)\n",
    "word_corr = word_err^found_err # Исправление ошибки\n",
    "print(\"Исправленное слово: \", word_corr)\n",
    "print(\"Совпадает ли с изначальным словом: \", word_corr == w)\n",
    "\n",
    "# Обнаружил ошибку и исправил ее"
   ],
   "id": "6dd1075ad7ddf84",
   "outputs": [
    {
     "name": "stdout",
     "output_type": "stream",
     "text": [
      "Получившееся слово:  [False False False False  True False False  True False  True False False\n",
      " False  True False  True  True  True  True  True False  True  True  True]\n",
      "Слово с ошибкой:  [False  True  True  True  True False False  True False  True False False\n",
      " False  True False  True  True  True  True  True False  True  True  True]\n",
      "U =  [False  True  True  True False False False False False False False False\n",
      " False False False False False False False False False False False False]\n",
      "Исправленное слово:  [False False False False  True False False  True False  True False False\n",
      " False  True False  True  True  True  True  True False  True  True  True]\n",
      "Совпадает ли с изначальным словом:  [ True  True  True  True  True  True  True  True  True  True  True  True\n",
      "  True  True  True  True  True  True  True  True  True  True  True  True]\n"
     ]
    }
   ],
   "execution_count": 14
  },
  {
   "metadata": {
    "ExecuteTime": {
     "end_time": "2025-02-05T14:29:42.857977Z",
     "start_time": "2025-02-05T14:29:42.853014Z"
    }
   },
   "cell_type": "code",
   "source": [
    "print(\"Получившееся слово: \", w)\n",
    "\n",
    "word_err = w^errors[1]^errors[2]^errors[3]^errors[0] # Внесение ошибки\n",
    "print(\"Слово с ошибкой: \", word_err)\n",
    "\n",
    "found_err = check_Golay(word_err,H,G,create_X_for_Golay()) # Нашли ошибку по таблице синдромов\n",
    "print(\"U = \", found_err)\n",
    "word_corr = word_err^found_err # Исправление ошибки\n",
    "print(\"Исправленное слово: \", word_corr)\n",
    "print(\"Совпадает ли с изначальным словом: \", word_corr == w)\n",
    "\n",
    "# Не обнаружил ошибку"
   ],
   "id": "1dfd2cf27e4da208",
   "outputs": [
    {
     "name": "stdout",
     "output_type": "stream",
     "text": [
      "Получившееся слово:  [False False False False  True False False  True False  True False False\n",
      " False  True False  True  True  True  True  True False  True  True  True]\n",
      "Слово с ошибкой:  [ True  True  True  True  True False False  True False  True False False\n",
      " False  True False  True  True  True  True  True False  True  True  True]\n",
      "Unable to detect\n",
      "U =  -1\n",
      "Исправленное слово:  [-2 -2 -2 -2 -2 -1 -1 -2 -1 -2 -1 -1 -1 -2 -1 -2 -2 -2 -2 -2 -1 -2 -2 -2]\n",
      "Совпадает ли с изначальным словом:  [False False False False False False False False False False False False\n",
      " False False False False False False False False False False False False]\n"
     ]
    }
   ],
   "execution_count": 15
  },
  {
   "metadata": {},
   "cell_type": "markdown",
   "source": [
    "### Часть 2\n",
    "#### 4.3"
   ],
   "id": "1ceae8673e17663e"
  },
  {
   "metadata": {
    "ExecuteTime": {
     "end_time": "2025-02-05T14:29:42.902858Z",
     "start_time": "2025-02-05T14:29:42.895470Z"
    }
   },
   "cell_type": "code",
   "source": [
    "def inner_shape(matr, dimension):\n",
    "    '''\n",
    "    Проблема - у одномерных мессивов numpy shape возвращает один аргумент - его длину, а нужна возможность считывать 2 аргумента - длину (n) и высоту (1)\n",
    "    Эта функция криво-косо решает проблему, позволяя считывать оба аргумента как для одномерных, так и для двумерных массивов\n",
    "    :param matr: массив numpy\n",
    "    :param dimension: измерение, длину в котором нужно считать\n",
    "    :return: длина массива в измерении dimension\n",
    "    '''\n",
    "    ndims = matr.ndim\n",
    "    if ndims == 1 and dimension == 1:\n",
    "        return matr.shape[0]\n",
    "    elif ndims == 1 and dimension == 0:\n",
    "        return 1\n",
    "    elif ndims == 2:\n",
    "        return matr.shape[dimension]\n",
    "    else:\n",
    "        print(\"Unidefined dimension error\")\n",
    "        return -1\n",
    "        \n",
    "        \n",
    "\n",
    "def create_G_for_RM(r,m):\n",
    "    '''\n",
    "    Рекурсивное построение порождающей матрицы для коди Рида-Миллера\n",
    "    :param r: параметр r\n",
    "    :param m: параметр m\n",
    "    :return: G - порождающая матрица для параметров (r,m)\n",
    "    '''\n",
    "    # Для r = 0: G(0,m) - вектор единиц длины 2^m\n",
    "    if(r==0):\n",
    "        G = np.ones((pow(2,m)),dtype=bool)\n",
    "        return G\n",
    "    \n",
    "    # Для r = m: G(m,m)\n",
    "    if(r==m):\n",
    "        # К матрице G(m-1,m) \n",
    "        G_up = create_G_for_RM(m-1,m)\n",
    "        # Присоединяем снизу вектор нулей с единицей в конце; получаем G(m,m)\n",
    "        G = np.vstack((G_up,np.zeros((inner_shape(G_up,1)),dtype=bool)))\n",
    "        G[-1,-1] = True\n",
    "        return G\n",
    "    # Для 0 < r < m: \n",
    "    # G(r,m) = \n",
    "    # [ G(r,m-1)  G(r,m-1)  ]\n",
    "    # [ 000...00  G(r-1,m-1)]\n",
    "    \n",
    "    # Матрица G(r,m-1)\n",
    "    G_rm1 = create_G_for_RM(r,m-1)\n",
    "    # Матрица G(r-1,m-1)\n",
    "    G_r1m1 = create_G_for_RM(r-1,m-1)\n",
    "    # Матрица [ G(r,m-1)  G(r,m-1) ]\n",
    "    G_up = np.hstack((G_rm1,G_rm1))\n",
    "    # Матрица [ 000...00  G(r-1,m-1)]\n",
    "    G_down = None\n",
    "    if (inner_shape(G_r1m1,0)) == 1:\n",
    "        # Если G(r-1,m-1) - одномерный вектор, то присоединяем к нему вектор нулей слева\n",
    "        G_down = np.hstack((np.zeros((inner_shape(G_rm1,1)),dtype=bool),G_r1m1))\n",
    "    else:\n",
    "        # Если G(r-1,m-1) - двумерная матрица, то присоединяем к ней матрицу нулей слева\n",
    "        G_down = np.hstack((np.zeros(((inner_shape(G_r1m1,0),inner_shape(G_rm1,1))),dtype=bool),G_r1m1))\n",
    "    \n",
    "    # Присоединяем к матрице [ G(r,m-1)  G(r,m-1) ] метрицу [ 000...00  G(r-1,m-1)]\n",
    "    G = np.vstack((G_up,G_down))\n",
    "    return G"
   ],
   "id": "be395ca6888c9cd3",
   "outputs": [],
   "execution_count": 16
  },
  {
   "metadata": {
    "ExecuteTime": {
     "end_time": "2025-02-05T14:29:42.953367Z",
     "start_time": "2025-02-05T14:29:42.948864Z"
    }
   },
   "cell_type": "code",
   "source": [
    "print(\"G = \")\n",
    "print(LinearCode(create_G_for_RM(1,3)))"
   ],
   "id": "93175c49dc38fd0f",
   "outputs": [
    {
     "name": "stdout",
     "output_type": "stream",
     "text": [
      "G = \n",
      "[1 1 1 1 1 1 1 1]\n",
      "[0 1 0 1 0 1 0 1]\n",
      "[0 0 1 1 0 0 1 1]\n",
      "[0 0 0 0 1 1 1 1]\n",
      "\n"
     ]
    }
   ],
   "execution_count": 17
  },
  {
   "metadata": {
    "ExecuteTime": {
     "end_time": "2025-02-05T14:29:43.012231Z",
     "start_time": "2025-02-05T14:29:43.003984Z"
    }
   },
   "cell_type": "code",
   "source": [
    "def kronekers_mult(A,B):\n",
    "    '''\n",
    "    Произведение Кронекера\n",
    "    :param A: матрица A\n",
    "    :param B: матрица B\n",
    "    :return: AxB\n",
    "    '''\n",
    "    \n",
    "    # Составляем матрицу из i строк\n",
    "    i_stack = None\n",
    "    for i in range(A.shape[0]):\n",
    "        # Составляем i-ую строчку матрицы AxB \n",
    "        j_stack = None\n",
    "        for j in range(A.shape[1]):\n",
    "            aijB = A[i,j]*B # Каждый элемент матрицы A умножается на матрицу B\n",
    "            # Присоединятеся к концу i-ой строки\n",
    "            if j_stack is None:\n",
    "                j_stack = aijB\n",
    "            else:\n",
    "                j_stack = np.hstack((j_stack,aijB))\n",
    "        # i-ая строка присоединяетсяя снизу к матрице AxB\n",
    "        if i_stack is None:\n",
    "            i_stack = j_stack\n",
    "        else:\n",
    "            i_stack = np.vstack((i_stack,j_stack))\n",
    "    \n",
    "    return i_stack\n",
    "\n",
    "print(kronekers_mult(np.array([[1,1],[1,-1]]),np.array([[1,0],[0,1]])))           "
   ],
   "id": "d4171e0f25c7b8b5",
   "outputs": [
    {
     "name": "stdout",
     "output_type": "stream",
     "text": [
      "[[ 1  0  1  0]\n",
      " [ 0  1  0  1]\n",
      " [ 1  0 -1  0]\n",
      " [ 0  1  0 -1]]\n"
     ]
    }
   ],
   "execution_count": 18
  },
  {
   "metadata": {
    "ExecuteTime": {
     "end_time": "2025-02-05T14:29:43.061177Z",
     "start_time": "2025-02-05T14:29:43.055308Z"
    }
   },
   "cell_type": "code",
   "source": [
    "def create_Him_for_RM(i,m):\n",
    "    '''\n",
    "    Функция, составляющая матрицу H^i_m = I_(2^(m-1)) x H x I_(2^(i-1))\n",
    "    :param i: параметр i\n",
    "    :param m: параметр m\n",
    "    :return: матрица H^i_m\n",
    "    '''\n",
    "    # H = \n",
    "    # [1  1]\n",
    "    # [1 -1]\n",
    "    Imi = np.eye(pow(2,m-i),dtype=int) # Матрица I_(2^(m-1))\n",
    "    Ii1 = np.eye(pow(2,i-1),dtype=int) # Матрица I_(2^(i-1))\n",
    "    H = np.array([[1,1],[1,-1]],dtype=int) # Матрица H\n",
    "    Him = kronekers_mult(kronekers_mult(Imi,H),Ii1) # Получаем H^i_m путем перемножения этиъ трех матриц\n",
    "    return Him\n",
    "\n",
    "print(\"Him = \")\n",
    "print(create_Him_for_RM(3,3))"
   ],
   "id": "f06d37f8472675bf",
   "outputs": [
    {
     "name": "stdout",
     "output_type": "stream",
     "text": [
      "Him = \n",
      "[[ 1  0  0  0  1  0  0  0]\n",
      " [ 0  1  0  0  0  1  0  0]\n",
      " [ 0  0  1  0  0  0  1  0]\n",
      " [ 0  0  0  1  0  0  0  1]\n",
      " [ 1  0  0  0 -1  0  0  0]\n",
      " [ 0  1  0  0  0 -1  0  0]\n",
      " [ 0  0  1  0  0  0 -1  0]\n",
      " [ 0  0  0  1  0  0  0 -1]]\n"
     ]
    }
   ],
   "execution_count": 19
  },
  {
   "metadata": {
    "ExecuteTime": {
     "end_time": "2025-02-05T14:29:43.168304Z",
     "start_time": "2025-02-05T14:29:43.162822Z"
    }
   },
   "cell_type": "code",
   "source": [
    "G, Him = create_G_for_RM(1,3), create_Him_for_RM(1,3)\n",
    "\n",
    "print(\"Him = \")\n",
    "print(Him)\n",
    "print(\"G = \")\n",
    "print(LinearCode(G))\n"
   ],
   "id": "538e8a87e0354340",
   "outputs": [
    {
     "name": "stdout",
     "output_type": "stream",
     "text": [
      "Him = \n",
      "[[ 1  1  0  0  0  0  0  0]\n",
      " [ 1 -1  0  0  0  0  0  0]\n",
      " [ 0  0  1  1  0  0  0  0]\n",
      " [ 0  0  1 -1  0  0  0  0]\n",
      " [ 0  0  0  0  1  1  0  0]\n",
      " [ 0  0  0  0  1 -1  0  0]\n",
      " [ 0  0  0  0  0  0  1  1]\n",
      " [ 0  0  0  0  0  0  1 -1]]\n",
      "G = \n",
      "[1 1 1 1 1 1 1 1]\n",
      "[0 1 0 1 0 1 0 1]\n",
      "[0 0 1 1 0 0 1 1]\n",
      "[0 0 0 0 1 1 1 1]\n",
      "\n"
     ]
    }
   ],
   "execution_count": 20
  },
  {
   "metadata": {},
   "cell_type": "markdown",
   "source": "#### 4.4",
   "id": "38d3f201813e4aaa"
  },
  {
   "metadata": {
    "ExecuteTime": {
     "end_time": "2025-02-05T14:29:43.332082Z",
     "start_time": "2025-02-05T14:29:43.326590Z"
    }
   },
   "cell_type": "code",
   "source": [
    "def to_binary_np(n,m):\n",
    "    '''\n",
    "    Функция, возвращающая двоичное представление числа с младшими битами в начале\n",
    "    :param n: число\n",
    "    :param m: длина числа в битах\n",
    "    :return: обратное двоичное представление числа\n",
    "    '''\n",
    "    # Такс, справа налево:\n",
    "    # np.binary_repr возвращает двоичное представление числа длины m в виде строки\n",
    "    # Строка преобразуется в список\n",
    "    # Этот список преобразовывается в обратный, с младшими битами слева\n",
    "    # После чего список преобразуется в массив numpy со значениями типа int\n",
    "    return np.array(list(reversed(list(np.binary_repr(n, width=m)))), dtype=int)\n",
    "\n",
    "\n",
    "def check_RM(w,m):\n",
    "    '''\n",
    "    Функция, выполняющая декодирование для RM(1,m)\n",
    "    :param w: закодированное слово\n",
    "    :param m: параметр m\n",
    "    :return: декодированное слово\n",
    "    '''\n",
    "    # w_new формируется заменой всех 0 на -1\n",
    "    w_new = np.zeros(w.shape[0],dtype=int)\n",
    "    for i in range(w.shape[0]):\n",
    "        w_new[i] = 1 if w[i] else -1 \n",
    "    \n",
    "    # Вычисляется w_1 = w_new*H^1_m\n",
    "    wi = w_new @ create_Him_for_RM(1,m)\n",
    "    # Для всех i: w_i = w_(i-1)*H^i_m\n",
    "    for i in range(2,m+1):\n",
    "        wi = wi @ create_Him_for_RM(i,m)\n",
    "    # Находим позицию j наибольшего по значению элемента\n",
    "    j = (np.abs(wi)).argmax()\n",
    "    \n",
    "    # Если этот элемент положительный, то его обратное двоичное представление дополняется единицами слева\n",
    "    if(wi[j]>=0):\n",
    "        return np.hstack((1,to_binary_np(j,m)))\n",
    "    else:\n",
    "        # Если этот элемент отрицательный, то его обратное двоичное представление дополняется нулями слева\n",
    "        return np.hstack((0,to_binary_np(j,m)))\n",
    "    # Полученное слово и будет исходным сообщением\n",
    "    "
   ],
   "id": "d471a49cef73e735",
   "outputs": [],
   "execution_count": 21
  },
  {
   "metadata": {
    "ExecuteTime": {
     "end_time": "2025-02-05T14:29:43.369834Z",
     "start_time": "2025-02-05T14:29:43.364330Z"
    }
   },
   "cell_type": "code",
   "source": [
    "sw = [False,False,True,True] # Исходное слово\n",
    "w = mult(sw,G) # Закодированное слово\n",
    "print(\"Получившееся слово: \", w)\n",
    "\n",
    "word_corr = check_RM(w,3) # Декодированное слово\n",
    "print(\"Декодированное слово: \", word_corr)\n",
    "print(\"Совпадает ли с изначальным словом: \", word_corr == sw)\n",
    "# Декодированное слово совпадает с исходным"
   ],
   "id": "61a6dd86b8bb3535",
   "outputs": [
    {
     "name": "stdout",
     "output_type": "stream",
     "text": [
      "Получившееся слово:  [False False  True  True  True  True False False]\n",
      "Декодированное слово:  [0 0 1 1]\n",
      "Совпадает ли с изначальным словом:  [ True  True  True  True]\n"
     ]
    }
   ],
   "execution_count": 22
  },
  {
   "metadata": {
    "ExecuteTime": {
     "end_time": "2025-02-05T14:29:43.407343Z",
     "start_time": "2025-02-05T14:29:43.401373Z"
    }
   },
   "cell_type": "code",
   "source": [
    "errors = np.eye(G.shape[1], dtype=bool)\n",
    "\n",
    "sw = [False,False,True,True] # Исходное слово\n",
    "w = mult(sw,G) # Закодированное слово\n",
    "print(\"Получившееся слово: \", w)\n",
    "\n",
    "word_err = w^errors[1] # Внесение ошибки\n",
    "print(\"Слово с ошибкой: \", word_err)\n",
    "\n",
    "word_corr = check_RM(word_err,3) # Декодированное слово\n",
    "print(\"Исправленное слово: \", word_corr)\n",
    "print(\"Совпадает ли с изначальным словом: \", word_corr == sw)\n",
    "# Декодированное слово совпадает с исходным, ошибка исправлена"
   ],
   "id": "425718572ce9a412",
   "outputs": [
    {
     "name": "stdout",
     "output_type": "stream",
     "text": [
      "Получившееся слово:  [False False  True  True  True  True False False]\n",
      "Слово с ошибкой:  [False  True  True  True  True  True False False]\n",
      "Исправленное слово:  [0 0 1 1]\n",
      "Совпадает ли с изначальным словом:  [ True  True  True  True]\n"
     ]
    }
   ],
   "execution_count": 23
  },
  {
   "metadata": {
    "ExecuteTime": {
     "end_time": "2025-02-05T14:29:43.449606Z",
     "start_time": "2025-02-05T14:29:43.443973Z"
    }
   },
   "cell_type": "code",
   "source": [
    "errors = np.eye(G.shape[1], dtype=bool)\n",
    "\n",
    "sw = [False,False,True,True] # Исходное слово  \n",
    "w = mult(sw,G) # Закодированное слово\n",
    "print(\"Получившееся слово: \", w)\n",
    "\n",
    "word_err = w^errors[1]^errors[2] # Внесение ошибки\n",
    "print(\"Слово с ошибкой: \", word_err)\n",
    "\n",
    "word_corr = check_RM(word_err,3) # Декодированное слово\n",
    "print(\"Исправленное слово: \", word_corr)\n",
    "print(\"Совпадает ли с изначальным словом: \", word_corr == sw)\n",
    "# Декодированное слово не совпадает с исходным, ошибка не исправлена"
   ],
   "id": "89f8ef9e6d582b9e",
   "outputs": [
    {
     "name": "stdout",
     "output_type": "stream",
     "text": [
      "Получившееся слово:  [False False  True  True  True  True False False]\n",
      "Слово с ошибкой:  [False  True False  True  True  True False False]\n",
      "Исправленное слово:  [0 1 0 0]\n",
      "Совпадает ли с изначальным словом:  [ True False False False]\n"
     ]
    }
   ],
   "execution_count": 24
  },
  {
   "metadata": {},
   "cell_type": "markdown",
   "source": "#### 4.5",
   "id": "536ac7a87fc7a12d"
  },
  {
   "metadata": {
    "ExecuteTime": {
     "end_time": "2025-02-05T14:45:36.924687Z",
     "start_time": "2025-02-05T14:45:36.918182Z"
    }
   },
   "cell_type": "code",
   "source": [
    "m = 4\n",
    "\n",
    "G, Him = create_G_for_RM(1,m), create_Him_for_RM(1,m)\n",
    "\n",
    "print(\"Him = \")\n",
    "print(Him)\n",
    "print(\"G = \")\n",
    "print(LinearCode(G))\n"
   ],
   "id": "c341e67c0ed7e344",
   "outputs": [
    {
     "name": "stdout",
     "output_type": "stream",
     "text": [
      "Him = \n",
      "[[ 1  1  0  0  0  0  0  0  0  0  0  0  0  0  0  0]\n",
      " [ 1 -1  0  0  0  0  0  0  0  0  0  0  0  0  0  0]\n",
      " [ 0  0  1  1  0  0  0  0  0  0  0  0  0  0  0  0]\n",
      " [ 0  0  1 -1  0  0  0  0  0  0  0  0  0  0  0  0]\n",
      " [ 0  0  0  0  1  1  0  0  0  0  0  0  0  0  0  0]\n",
      " [ 0  0  0  0  1 -1  0  0  0  0  0  0  0  0  0  0]\n",
      " [ 0  0  0  0  0  0  1  1  0  0  0  0  0  0  0  0]\n",
      " [ 0  0  0  0  0  0  1 -1  0  0  0  0  0  0  0  0]\n",
      " [ 0  0  0  0  0  0  0  0  1  1  0  0  0  0  0  0]\n",
      " [ 0  0  0  0  0  0  0  0  1 -1  0  0  0  0  0  0]\n",
      " [ 0  0  0  0  0  0  0  0  0  0  1  1  0  0  0  0]\n",
      " [ 0  0  0  0  0  0  0  0  0  0  1 -1  0  0  0  0]\n",
      " [ 0  0  0  0  0  0  0  0  0  0  0  0  1  1  0  0]\n",
      " [ 0  0  0  0  0  0  0  0  0  0  0  0  1 -1  0  0]\n",
      " [ 0  0  0  0  0  0  0  0  0  0  0  0  0  0  1  1]\n",
      " [ 0  0  0  0  0  0  0  0  0  0  0  0  0  0  1 -1]]\n",
      "G = \n",
      "[1 1 1 1 1 1 1 1 1 1 1 1 1 1 1 1]\n",
      "[0 1 0 1 0 1 0 1 0 1 0 1 0 1 0 1]\n",
      "[0 0 1 1 0 0 1 1 0 0 1 1 0 0 1 1]\n",
      "[0 0 0 0 1 1 1 1 0 0 0 0 1 1 1 1]\n",
      "[0 0 0 0 0 0 0 0 1 1 1 1 1 1 1 1]\n",
      "\n"
     ]
    }
   ],
   "execution_count": 31
  },
  {
   "metadata": {
    "ExecuteTime": {
     "end_time": "2025-02-05T14:29:43.524610Z",
     "start_time": "2025-02-05T14:29:43.517538Z"
    }
   },
   "cell_type": "code",
   "source": [
    "sw = [False,False,True,True,False] # Исходное слово\n",
    "w = mult(sw,G) # Закодированное слово\n",
    "print(\"Получившееся слово: \", w)\n",
    "\n",
    "word_corr = check_RM(w,m) # Декодированное слово\n",
    "print(\"Декодированное слово: \", word_corr)\n",
    "print(\"Совпадает ли с изначальным словом: \", word_corr == sw)\n",
    "# Декодированное слово совпадает с исходным"
   ],
   "id": "a1b3ad169f245789",
   "outputs": [
    {
     "name": "stdout",
     "output_type": "stream",
     "text": [
      "Получившееся слово:  [False False  True  True  True  True False False False False  True  True\n",
      "  True  True False False]\n",
      "Декодированное слово:  [0 0 1 1 0]\n",
      "Совпадает ли с изначальным словом:  [ True  True  True  True  True]\n"
     ]
    }
   ],
   "execution_count": 26
  },
  {
   "metadata": {
    "ExecuteTime": {
     "end_time": "2025-02-05T14:29:43.567055Z",
     "start_time": "2025-02-05T14:29:43.559749Z"
    }
   },
   "cell_type": "code",
   "source": [
    "errors = np.eye(G.shape[1], dtype=bool)\n",
    "\n",
    "sw = [False,False,True,True,False] # Исходное слово\n",
    "w = mult(sw,G) # Закодированное слово\n",
    "print(\"Получившееся слово: \", w)\n",
    "\n",
    "word_err = w^errors[1] # Внесение ошибки\n",
    "print(\"Слово с ошибкой: \", word_err)\n",
    "\n",
    "word_corr = check_RM(word_err,m) # Декодированное слово\n",
    "print(\"Исправленное слово: \", word_corr)\n",
    "print(\"Совпадает ли с изначальным словом: \", word_corr == sw)\n",
    "# Декодированное слово совпадает с исходным, ошибка исправлена"
   ],
   "id": "8ce580bffef4f854",
   "outputs": [
    {
     "name": "stdout",
     "output_type": "stream",
     "text": [
      "Получившееся слово:  [False False  True  True  True  True False False False False  True  True\n",
      "  True  True False False]\n",
      "Слово с ошибкой:  [False  True  True  True  True  True False False False False  True  True\n",
      "  True  True False False]\n",
      "Исправленное слово:  [0 0 1 1 0]\n",
      "Совпадает ли с изначальным словом:  [ True  True  True  True  True]\n"
     ]
    }
   ],
   "execution_count": 27
  },
  {
   "metadata": {
    "ExecuteTime": {
     "end_time": "2025-02-05T14:29:43.604274Z",
     "start_time": "2025-02-05T14:29:43.597234Z"
    }
   },
   "cell_type": "code",
   "source": [
    "errors = np.eye(G.shape[1], dtype=bool)\n",
    "\n",
    "sw = [False,False,True,True,False] # Исходное слово\n",
    "w = mult(sw,G) # Закодированное слово\n",
    "print(\"Получившееся слово: \", w)\n",
    "\n",
    "word_err = w^errors[1]^errors[2] # Внесение ошибки\n",
    "print(\"Слово с ошибкой: \", word_err)\n",
    "\n",
    "word_corr = check_RM(word_err,m) # Декодированное слово\n",
    "print(\"Исправленное слово: \", word_corr)\n",
    "print(\"Совпадает ли с изначальным словом: \", word_corr == sw)\n",
    "# Декодированное слово совпадает с исходным, ошибка исправлена"
   ],
   "id": "55fff01b96d1ae04",
   "outputs": [
    {
     "name": "stdout",
     "output_type": "stream",
     "text": [
      "Получившееся слово:  [False False  True  True  True  True False False False False  True  True\n",
      "  True  True False False]\n",
      "Слово с ошибкой:  [False  True False  True  True  True False False False False  True  True\n",
      "  True  True False False]\n",
      "Исправленное слово:  [0 0 1 1 0]\n",
      "Совпадает ли с изначальным словом:  [ True  True  True  True  True]\n"
     ]
    }
   ],
   "execution_count": 28
  },
  {
   "metadata": {
    "ExecuteTime": {
     "end_time": "2025-02-05T14:29:43.653253Z",
     "start_time": "2025-02-05T14:29:43.644952Z"
    }
   },
   "cell_type": "code",
   "source": [
    "errors = np.eye(G.shape[1], dtype=bool)\n",
    "\n",
    "sw = [False,False,True,True,False] # Исходное слово\n",
    "w = mult(sw,G) # Закодированное слово\n",
    "print(\"Получившееся слово: \", w)\n",
    "\n",
    "word_err = w^errors[1]^errors[2]^errors[3] # Внесение ошибки\n",
    "print(\"Слово с ошибкой: \", word_err)\n",
    "\n",
    "word_corr = check_RM(word_err,m) # Декодированное слово\n",
    "print(\"Исправленное слово: \", word_corr)\n",
    "print(\"Совпадает ли с изначальным словом: \", word_corr == sw)\n",
    "# Декодированное слово совпадает с исходным, ошибка исправлена"
   ],
   "id": "9807924b5bb17967",
   "outputs": [
    {
     "name": "stdout",
     "output_type": "stream",
     "text": [
      "Получившееся слово:  [False False  True  True  True  True False False False False  True  True\n",
      "  True  True False False]\n",
      "Слово с ошибкой:  [False  True False False  True  True False False False False  True  True\n",
      "  True  True False False]\n",
      "Исправленное слово:  [0 0 1 1 0]\n",
      "Совпадает ли с изначальным словом:  [ True  True  True  True  True]\n"
     ]
    }
   ],
   "execution_count": 29
  },
  {
   "metadata": {
    "ExecuteTime": {
     "end_time": "2025-02-05T14:29:43.699966Z",
     "start_time": "2025-02-05T14:29:43.692462Z"
    }
   },
   "cell_type": "code",
   "source": [
    "errors = np.eye(G.shape[1], dtype=bool)\n",
    "\n",
    "sw = [False,False,True,True,False] # Исходное слово\n",
    "w = mult(sw,G) # Закодированное слово\n",
    "print(\"Получившееся слово: \", w)\n",
    "\n",
    "word_err = w^errors[1]^errors[2]^errors[3]^errors[0] # Внесение ошибки\n",
    "print(\"Слово с ошибкой: \", word_err)\n",
    "\n",
    "word_corr = check_RM(word_err,m) # Декодированное слово\n",
    "print(\"Исправленное слово: \", word_corr)\n",
    "print(\"Совпадает ли с изначальным словом: \", word_corr == sw)\n",
    "# Декодированное слово не совпадает с исходным, ошибка не исправлена"
   ],
   "id": "8e7f767dd2f89e8b",
   "outputs": [
    {
     "name": "stdout",
     "output_type": "stream",
     "text": [
      "Получившееся слово:  [False False  True  True  True  True False False False False  True  True\n",
      "  True  True False False]\n",
      "Слово с ошибкой:  [ True  True False False  True  True False False False False  True  True\n",
      "  True  True False False]\n",
      "Исправленное слово:  [1 0 1 0 0]\n",
      "Совпадает ли с изначальным словом:  [False  True  True False  True]\n"
     ]
    }
   ],
   "execution_count": 30
  }
 ],
 "metadata": {
  "kernelspec": {
   "display_name": "Python 3 (ipykernel)",
   "language": "python",
   "name": "python3"
  },
  "language_info": {
   "codemirror_mode": {
    "name": "ipython",
    "version": 3
   },
   "file_extension": ".py",
   "mimetype": "text/x-python",
   "name": "python",
   "nbconvert_exporter": "python",
   "pygments_lexer": "ipython3",
   "version": "3.11.2"
  }
 },
 "nbformat": 4,
 "nbformat_minor": 5
}
