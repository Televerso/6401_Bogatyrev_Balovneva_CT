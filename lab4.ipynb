{
 "cells": [
  {
   "cell_type": "markdown",
   "id": "a2cb2b965b616377",
   "metadata": {},
   "source": [
    "# Лабораторная работа по Теории кодирования\n",
    "## Лабораторная работа №3\n",
    "Выполнили студенты группы 6401-010302D\n",
    "\n",
    "Баловнева Юлия\n",
    "\n",
    "Богатырев Дмитрий\n"
   ]
  },
  {
   "cell_type": "code",
   "id": "7a2fe340b3ff7e61",
   "metadata": {
    "ExecuteTime": {
     "end_time": "2025-01-30T17:39:58.559045Z",
     "start_time": "2025-01-30T17:39:58.553155Z"
    }
   },
   "source": [
    "from ast import Bytes\n",
    "from venv import create\n",
    "from xmlrpc.client import Boolean\n",
    "\n",
    "import numpy as np\n",
    "import itertools\n",
    "\n",
    "from numpy import dtype\n",
    "from numpy.f2py.auxfuncs import throw_error\n",
    "\n",
    "\n",
    "def mult(m1, m2):\n",
    "    '''Умножает две матрицы xor-ом и возвращает результат\n",
    "    :param:\n",
    "        m1: первая матрица\n",
    "        m2: вторая матрица\n",
    "        \n",
    "        :return: C: возвращает матрицу - xor-произведение двух матриц \n",
    "    '''\n",
    "    A = np.array(m1, dtype=int)\n",
    "    B = np.array(m2, dtype=int)\n",
    "    C = (A@B)%2\n",
    "    return np.array(C, dtype=bool)\n",
    "\n",
    "def code_length(matr):\n",
    "    '''Вычисляет кодовое расстояние массива переданных слов\n",
    "    :param:\n",
    "        matr: матрица - двумерный bool-массив - масиив двоичных слов\n",
    "        \n",
    "        :return: d: кодовое расстояние. \n",
    "    '''\n",
    "    d = len(matr[0])\n",
    "    for i in range(len(matr)-1):\n",
    "        for j in range(i+1,len(matr)):\n",
    "            # Ищем минимальное число единиц в множестве произведений i и j строк\n",
    "            d = min(d,sum(np.bitwise_xor(matr[i],matr[j])))\n",
    "    return d\n",
    "\n",
    "def create_verif_matr(X):\n",
    "    k = X.shape[1]\n",
    "    P = np.eye(k,dtype=bool)\n",
    "    return np.vstack([P,X])\n",
    "\n",
    "def create_rref_matr(X):\n",
    "    k = X.shape[0]\n",
    "    P = np.eye(k,dtype=bool)\n",
    "    return np.hstack([P,X])"
   ],
   "outputs": [],
   "execution_count": 57
  },
  {
   "cell_type": "code",
   "id": "2714373082c06ca7",
   "metadata": {
    "ExecuteTime": {
     "end_time": "2025-01-30T17:39:58.596083Z",
     "start_time": "2025-01-30T17:39:58.575100Z"
    }
   },
   "source": [
    "class LinearCode:\n",
    "    ''' Класс линейных кодов.\n",
    "\n",
    "    Атрибуты:\\n\n",
    "    matr: копия исходной матрицы\\n\n",
    "    k: количество строк матрицы\\n\n",
    "    n: количество столбцов матрицы\n",
    "    \n",
    "    '''\n",
    "    # Конструктор\n",
    "    def __init__(self, n_array):\n",
    "        self.matr = np.array(n_array, dtype=bool)\n",
    "        self.n = n_array.shape[1]\n",
    "        self.k = n_array.shape[0]\n",
    "    \n",
    "    def find_first(self, line):\n",
    "        '''Поиск первого ненулевого элемента в строке.\n",
    "        \n",
    "        :param:\n",
    "        line: строка матрицы.\n",
    "        \n",
    "        :return: h: возвращаем позицию первого ненулевого элемента в строке. \n",
    "        '''\n",
    "        # Задаем h = количеству элементов в сторке\n",
    "        h = self.n\n",
    "        # В строке line перебираем элементы пока не натолкнемся на 1\n",
    "        for i in range(self.n):\n",
    "            if self.matr[line,i]:\n",
    "                h = i\n",
    "                break\n",
    "        # Возвращаем позицию найденной единицы в строке\n",
    "        return h\n",
    "    \n",
    "    def xor_swap(self, line1, line2):\n",
    "        '''Меняет две строки местами с помощью поэлементного XOR.\n",
    "\n",
    "        :param:\n",
    "            line1: первая строка.\\n\n",
    "            line2: вторая строка.\n",
    "\n",
    "        '''\n",
    "        # Поэлементный XOR \n",
    "        for w in range(self.n):\n",
    "            self.matr[line1,w] ^= self.matr[line2,w]\n",
    "            self.matr[line2,w] ^= self.matr[line1,w]\n",
    "            self.matr[line1,w] ^= self.matr[line2,w]\n",
    "\n",
    "\n",
    "    def sum(self, line1, line2):\n",
    "        '''Складывает первую переданную строку со второй.\n",
    "\n",
    "        :param:\n",
    "            line1: первая строка.\\n\n",
    "            line2: вторая строка.\n",
    "        '''\n",
    "        # Поэлементный XOR \n",
    "        for w in range(self.n):\n",
    "            self.matr[line2,w] ^= self.matr[line1,w]\n",
    "\n",
    "    def __str__(self):\n",
    "        '''Собирает строку (смена типа от bool к string).\n",
    "\n",
    "        :return: s: строка с матрицей.            \n",
    "        '''\n",
    "        s = ''\n",
    "        for i in range(self.k):\n",
    "            s += '['\n",
    "            for j in range(self.n):\n",
    "                if self.matr[i,j]: s += \"1 \"\n",
    "                else: s += \"0 \"\n",
    "            s += \"\\b]\\n\"\n",
    "        return s\n",
    "    \n",
    "    def fillrand(self):\n",
    "        '''Заполняет матрицу случайным образом нулями и единицами.\n",
    "        \n",
    "        '''\n",
    "        rand = np.random\n",
    "        for i in range(self.k):\n",
    "            for j in range(self.n):\n",
    "                self.matr[i,j] = np.round(rand.random())\n",
    "\n",
    "    def sort(self):\n",
    "        '''Сортировка строк матрицы.\n",
    "        '''\n",
    "        # sort\n",
    "        for i in range(self.k):\n",
    "            for j in range(self.k-i-1):\n",
    "                if self.find_first(j) > self.find_first(j+1):\n",
    "                    self.xor_swap(j, j+1)\n",
    "\n",
    "    def ref(self):\n",
    "        '''Приводит матрицу к ступенчатому виду.\n",
    "        \n",
    "            ---\n",
    "            Ступенчатая матрица - такая матрица, что\n",
    "            * все ненулевые строки располагаются над всеми чисто нулевыми строками\n",
    "            * ведущий элемент (первый, считая слева направо, ненулевой элемент строки)\n",
    "            каждой ненулевой строки располагается строго правее ведущего элемента в\n",
    "            строке, расположенной выше данной.\n",
    "            ---\n",
    "        '''\n",
    "        # Проходит по всем строкм матрицы\n",
    "        for i in range(self.k-1):\n",
    "            # Сравнивает рабочую строку с текущей\n",
    "            for j in range(i+1, self.k):\n",
    "                # Запоминаем первые элементы\n",
    "                first_i = self.find_first(i)\n",
    "                first_j = self.find_first(j)\n",
    "                # Если они равны, то делаем xor со строкой\n",
    "                # Поскольку рабочая строка всегда ниже текущей, то при xor первый элемент всех нижних строк зануляется\n",
    "                if first_i == first_j:\n",
    "                    self.sum(i,j)\n",
    "                # Если встретили строку, у которой первый элемент раньше чем у текущей, то меняем строки местами\n",
    "                elif first_i > first_j:\n",
    "                    self.xor_swap(i,j)\n",
    "                # Иначе все хорошо, идем дальше\n",
    "        # Удаляем занулившиеся строки, которые могли бы получится\n",
    "        self.delete_redundant_lines()\n",
    "        \n",
    "\n",
    "    def rref(self):\n",
    "        '''Приводит матрицу к приведенному ступенчатому виду. \n",
    "        \n",
    "            ---\n",
    "            Ступенчатая матрица называется приведенной, если матрица,  не имеет нулевых строк, \n",
    "            и все ведущие элементы ее строк равны единице. При этом все элементы основных столбцов, \n",
    "            помимо ведущих элементов, являются нулями.\n",
    "            \n",
    "        '''\n",
    "        # Сначала приводим матрицу к ступенчатому виду\n",
    "        self.ref()\n",
    "        # Дальше для всех строк...\n",
    "        for i in range(1,self.k):\n",
    "            # ...мы ищем номер ведущего элемента строки...\n",
    "            ist = self.find_first(i)\n",
    "            # ...и делаем xor для всех строк выше текущей\n",
    "            for j in range(i-1,-1,-1):\n",
    "                if(self.matr[j,ist]):\n",
    "                    self.sum(i,j)\n",
    "            # Таким образом зануляются все элементы над ведущим\n",
    "        # Удаляем занулившиеся строки, которые могли бы получится\n",
    "        self.delete_redundant_lines()\n",
    "    \n",
    "\n",
    "    def delete_redundant_lines(self):\n",
    "        '''Удаляет нулевые строки из матрицы.\n",
    "        '''\n",
    "        # Копия матрицы, с которой ведется работа\n",
    "        temp = self.matr.copy()\n",
    "        offset = 0 # сдвиг\n",
    "        for i in range(self.k):\n",
    "            # Если номер первой единицы в строке == кол-ву элементов самой строки (то есть единиц там нет)\n",
    "            # Удаляем эту строку и сдвигаем указатель на 1\n",
    "            if self.find_first(i) == self.n:\n",
    "                temp = np.delete(temp, i - offset, 0)\n",
    "                offset += 1\n",
    "        # Перезаписываем матрицу на новую и очищенную\n",
    "        self.matr = temp\n",
    "        # Обновляем переменные-размеры матрицы\n",
    "        self.n = temp.shape[1]\n",
    "        self.k = temp.shape[0]\n",
    "\n",
    "    \n",
    "    def create_reduced_matr(self):\n",
    "        rrefed_matr = LinearCode(self.matr.copy())\n",
    "        rrefed_matr.rref()\n",
    "\n",
    "        # Определяем индексы ведущих элементов\n",
    "        leads = np.array([rrefed_matr.find_first(i) for i in range(rrefed_matr.k)])\n",
    "\n",
    "        # Создаем сокращенную матрицу \n",
    "        X = np.zeros(shape=(rrefed_matr.k,rrefed_matr.n-rrefed_matr.k), dtype=bool)\n",
    "        \n",
    "        # Заполняем ее значениями из ступенчатой\n",
    "        for i in range(rrefed_matr.k):\n",
    "            offset = 0 # сдвиг\n",
    "            for j in range(rrefed_matr.n):\n",
    "                # Если в столбце содержится ведущий элемент, то его пропускаем (и увеличиваем сдвиг на 1)\n",
    "                # Иначе добавляем этот элемент в сокращенную матрицу\n",
    "                if j in leads: \n",
    "                    offset+=1\n",
    "                else:\n",
    "                    X[i,j-offset] = rrefed_matr.matr[i,j]\n",
    "        return LinearCode(X)\n",
    "\n",
    "                \n",
    "    def create_verif_matr(self):\n",
    "        '''Создает проверочную матрицу на основе порождающей.\n",
    "        \n",
    "        :return: LinearCode(H): проверочная матрица. \n",
    "        '''\n",
    "        # Создаем новую матрицу в приведенном ступенчатом виде на основе текущей\n",
    "        rrefed_matr = LinearCode(self.matr.copy())\n",
    "        rrefed_matr.rref()\n",
    "\n",
    "        # Определяем индексы ведущих элементов\n",
    "        leads = np.array([rrefed_matr.find_first(i) for i in range(rrefed_matr.k)])\n",
    "\n",
    "        # Создаем сокращенную матрицу \n",
    "        X = np.zeros(shape=(rrefed_matr.k,rrefed_matr.n-rrefed_matr.k), dtype=bool)\n",
    "        \n",
    "        # Заполняем ее значениями из ступенчатой\n",
    "        for i in range(rrefed_matr.k):\n",
    "            offset = 0 # сдвиг\n",
    "            for j in range(rrefed_matr.n):\n",
    "                # Если в столбце содержится ведущий элемент, то его пропускаем (и увеличиваем сдвиг на 1)\n",
    "                # Иначе добавляем этот элемент в сокращенную матрицу\n",
    "                if j in leads: \n",
    "                    offset+=1\n",
    "                else:\n",
    "                    X[i,j-offset] = rrefed_matr.matr[i,j]\n",
    "\n",
    "        # Единичная матрица\n",
    "        Ind = np.identity(n = rrefed_matr.n-rrefed_matr.k, dtype = bool)\n",
    "\n",
    "        # Создаем проверочную матрицу\n",
    "        H = np.zeros(shape=(rrefed_matr.n,rrefed_matr.n-rrefed_matr.k), dtype=bool)\n",
    "        # сдвиги\n",
    "        offset_i = 0\n",
    "        offset_matr = 0\n",
    "        # Заполняем ее значениями\n",
    "        for i in range(H.shape[0]):\n",
    "            # Если номер строки содержится в массиве с ведущими элементами, то заполняем строку из сокращенной матрицы\n",
    "            # И прибавляем 1 к сдвигу для элементов единичной матрицы\n",
    "            if i in leads:\n",
    "                for j in range(H.shape[1]):\n",
    "                    H[i,j] = X[i-offset_matr,j]\n",
    "                offset_i += 1\n",
    "            # Иначе заполняем строку из единичной матрицы\n",
    "            # И прибавляем 1 к сдвику для матрицы сокращенной\n",
    "            else:\n",
    "                for j in range(H.shape[1]):\n",
    "                    H[i,j] = Ind[i-offset_i,j]\n",
    "                offset_matr += 1\n",
    "        \n",
    "        return LinearCode(H)\n",
    "    \n",
    "    def gen_codewords_summing(self):\n",
    "        ''' Формирует набор слов путем сложения всех слов из порождающего множества\n",
    "\n",
    "        :return: wordset: набор кодовых слов\n",
    "        '''\n",
    "        # Создаем пустой набор слов и доюавляем в него 0й элемент\n",
    "        wordset = set()\n",
    "        wordset.add(tuple((np.zeros(self.n, dtype=bool))))\n",
    "        # Для i числа строк\n",
    "        for i in range(1, self.k+1):\n",
    "            # Массив длинны i всех возможных комбинаций строк \n",
    "            combinations = np.array(list(itertools.combinations(range(self.k), i)))\n",
    "            for comb in combinations:\n",
    "                # Для каждой комбинации\n",
    "                # Создаем пустое слово\n",
    "                word = np.zeros(self.n, dtype=bool)\n",
    "                # Записываем в него сумму всех строк в текущей комбинации строк\n",
    "                for j in comb:\n",
    "                    word ^= self.matr[j]\n",
    "                # Добавляем слово в набор слов\n",
    "                wordset.add(tuple(word.tolist()))\n",
    "        return wordset\n",
    "    \n",
    "    def gen_codewords_bin(self):\n",
    "        ''' Формирует набор слов путем умножения всех двоичных слов длины k на G \n",
    "\n",
    "        :return: wordset: набор кодовых слов\n",
    "        '''\n",
    "        # Копия текущей матрицы\n",
    "        G = LinearCode(self.matr)\n",
    "        # Приводим в ступенчатому виду\n",
    "        G.ref\n",
    "        # Пустой набор слов\n",
    "        wordset = set()\n",
    "        # Набор всех возможных двоичных слов длины k\n",
    "        binset = set(tuple(itertools.product((True,False),repeat=self.k)))\n",
    "        # Для каждой комбинации\n",
    "        for bin in binset:\n",
    "            # Умножаем комбинацию на ступенчатую матрицу\n",
    "            # И записываем слово в набор\n",
    "            word = tuple((mult(bin,G.matr)).tolist())\n",
    "            wordset.add(word)\n",
    "        return wordset\n",
    "\n"
   ],
   "outputs": [],
   "execution_count": 58
  },
  {
   "metadata": {},
   "cell_type": "markdown",
   "source": [
    "### Часть 1\n",
    "#### 4.1"
   ],
   "id": "9dc49f0ed35b1493"
  },
  {
   "metadata": {
    "ExecuteTime": {
     "end_time": "2025-01-30T17:39:58.616422Z",
     "start_time": "2025-01-30T17:39:58.605594Z"
    }
   },
   "cell_type": "code",
   "source": [
    "def create_X_for_Golay():\n",
    "    B = [[1,1,0,1,1,1,0,0,0,1,0,1],\n",
    "         [1,0,1,1,1,0,0,0,1,0,1,1],\n",
    "         [0,1,1,1,0,0,0,1,0,1,1,1],\n",
    "         [1,1,1,0,0,0,1,0,1,1,0,1],\n",
    "         [1,1,0,0,0,1,0,1,1,0,1,1],\n",
    "         [1,0,0,0,1,0,1,1,0,1,1,1],\n",
    "         [0,0,0,1,0,1,1,0,1,1,1,1],\n",
    "         [0,0,1,0,1,1,0,1,1,1,0,1],\n",
    "         [0,1,0,1,1,0,1,1,1,0,0,1],\n",
    "         [1,0,1,1,0,1,1,1,0,0,0,1],\n",
    "         [0,1,1,0,1,1,1,0,0,0,1,1],\n",
    "         [1,1,1,1,1,1,1,1,1,1,1,0]]\n",
    "    return np.array(B,dtype=bool)\n",
    "\n",
    "    \n",
    "def get_Golay():\n",
    "    B = create_X_for_Golay()\n",
    "    G = create_rref_matr(B)\n",
    "    H = create_verif_matr(B)\n",
    "    return G, H\n",
    "\n",
    "def check_Golay(w, H, G, B):\n",
    "    s = mult(w, H)\n",
    "    if np.sum(s) <= 3:\n",
    "        u = np.hstack((s,np.zeros([B.shape[0]],dtype=bool)))\n",
    "        return u\n",
    "    \n",
    "    for i in range(B.shape[0]):\n",
    "        if np.sum(s+B[i,:]) <= 2:\n",
    "            e = np.zeros((B.shape[0]),dtype=bool)\n",
    "            e[0, i] = True\n",
    "            u = np.hstack((s+B[i,:],e),dtype=bool)\n",
    "            return u\n",
    "        \n",
    "    sB = mult(s, B)\n",
    "    if np.sum(s) <= 3:\n",
    "        u = np.hstack((np.zeros([B.shape[0]],dtype=bool),sB))\n",
    "        return u\n",
    "    \n",
    "    for i in range(B.shape[0]):\n",
    "        if np.sum(sB+B[i,:]) <= 2:\n",
    "            e = np.zeros((B.shape[0]),dtype=bool)\n",
    "            e[0, i] = True\n",
    "            u = np.hstack((e,sB+B[i,:]))\n",
    "            return u\n",
    "    throw_error(\"Unable to detect\")\n",
    "    \n",
    "    \n",
    "print(\"G = \")\n",
    "G,H = get_Golay()\n",
    "print(LinearCode(G))\n",
    "print(\"H = \")\n",
    "print(LinearCode(H))\n",
    "    \n",
    "            "
   ],
   "id": "6c700a3f7d8dd7bd",
   "outputs": [
    {
     "name": "stdout",
     "output_type": "stream",
     "text": [
      "G = \n",
      "[1 0 0 0 0 0 0 0 0 0 0 0 1 1 0 1 1 1 0 0 0 1 0 1]\n",
      "[0 1 0 0 0 0 0 0 0 0 0 0 1 0 1 1 1 0 0 0 1 0 1 1]\n",
      "[0 0 1 0 0 0 0 0 0 0 0 0 0 1 1 1 0 0 0 1 0 1 1 1]\n",
      "[0 0 0 1 0 0 0 0 0 0 0 0 1 1 1 0 0 0 1 0 1 1 0 1]\n",
      "[0 0 0 0 1 0 0 0 0 0 0 0 1 1 0 0 0 1 0 1 1 0 1 1]\n",
      "[0 0 0 0 0 1 0 0 0 0 0 0 1 0 0 0 1 0 1 1 0 1 1 1]\n",
      "[0 0 0 0 0 0 1 0 0 0 0 0 0 0 0 1 0 1 1 0 1 1 1 1]\n",
      "[0 0 0 0 0 0 0 1 0 0 0 0 0 0 1 0 1 1 0 1 1 1 0 1]\n",
      "[0 0 0 0 0 0 0 0 1 0 0 0 0 1 0 1 1 0 1 1 1 0 0 1]\n",
      "[0 0 0 0 0 0 0 0 0 1 0 0 1 0 1 1 0 1 1 1 0 0 0 1]\n",
      "[0 0 0 0 0 0 0 0 0 0 1 0 0 1 1 0 1 1 1 0 0 0 1 1]\n",
      "[0 0 0 0 0 0 0 0 0 0 0 1 1 1 1 1 1 1 1 1 1 1 1 0]\n",
      "\n",
      "H = \n",
      "[1 0 0 0 0 0 0 0 0 0 0 0]\n",
      "[0 1 0 0 0 0 0 0 0 0 0 0]\n",
      "[0 0 1 0 0 0 0 0 0 0 0 0]\n",
      "[0 0 0 1 0 0 0 0 0 0 0 0]\n",
      "[0 0 0 0 1 0 0 0 0 0 0 0]\n",
      "[0 0 0 0 0 1 0 0 0 0 0 0]\n",
      "[0 0 0 0 0 0 1 0 0 0 0 0]\n",
      "[0 0 0 0 0 0 0 1 0 0 0 0]\n",
      "[0 0 0 0 0 0 0 0 1 0 0 0]\n",
      "[0 0 0 0 0 0 0 0 0 1 0 0]\n",
      "[0 0 0 0 0 0 0 0 0 0 1 0]\n",
      "[0 0 0 0 0 0 0 0 0 0 0 1]\n",
      "[1 1 0 1 1 1 0 0 0 1 0 1]\n",
      "[1 0 1 1 1 0 0 0 1 0 1 1]\n",
      "[0 1 1 1 0 0 0 1 0 1 1 1]\n",
      "[1 1 1 0 0 0 1 0 1 1 0 1]\n",
      "[1 1 0 0 0 1 0 1 1 0 1 1]\n",
      "[1 0 0 0 1 0 1 1 0 1 1 1]\n",
      "[0 0 0 1 0 1 1 0 1 1 1 1]\n",
      "[0 0 1 0 1 1 0 1 1 1 0 1]\n",
      "[0 1 0 1 1 0 1 1 1 0 0 1]\n",
      "[1 0 1 1 0 1 1 1 0 0 0 1]\n",
      "[0 1 1 0 1 1 1 0 0 0 1 1]\n",
      "[1 1 1 1 1 1 1 1 1 1 1 0]\n",
      "\n"
     ]
    }
   ],
   "execution_count": 59
  },
  {
   "metadata": {},
   "cell_type": "markdown",
   "source": "#### 4.2",
   "id": "83ef8de52f0612fe"
  },
  {
   "metadata": {
    "ExecuteTime": {
     "end_time": "2025-01-30T17:41:42.034572Z",
     "start_time": "2025-01-30T17:41:42.028051Z"
    }
   },
   "cell_type": "code",
   "source": [
    "errors = np.eye(G.shape[1], dtype=bool)\n",
    "\n",
    "sw = np.array([0,0,0,0,1,0,0,1,0,1,0,0],dtype=bool)  # Слово длины k  # Слово длины n\n",
    "w = mult(sw,G)\n",
    "print(\"Получившееся слово: \", w)\n",
    "\n",
    "word_err = w^errors[1]\n",
    "print(\"Слово с ошибкой: \", word_err)\n",
    "\n",
    "found_err = check_Golay(word_err,H,G,create_X_for_Golay()) # Нашли ошибку по таблице синдромов\n",
    "print(\"U = \", found_err)\n",
    "word_corr = word_err^found_err\n",
    "print(\"Исправленное слово: \", word_corr)\n",
    "print(\"Совпадает ли с изначальным словом: \", word_corr == w)\n",
    "\n",
    "# Обнаружил ошибку и исправил ее"
   ],
   "id": "ecaacf5478bef8c2",
   "outputs": [
    {
     "name": "stdout",
     "output_type": "stream",
     "text": [
      "Получившееся слово:  [False False False False  True False False  True False  True False False\n",
      " False  True False  True  True  True  True  True False  True  True  True]\n",
      "Слово с ошибкой:  [False  True False False  True False False  True False  True False False\n",
      " False  True False  True  True  True  True  True False  True  True  True]\n",
      "[False  True False False False False False False False False False False\n",
      " False False False False False False False False False False False False]\n",
      "U =  [False  True False False False False False False False False False False\n",
      " False False False False False False False False False False False False]\n",
      "Исправленное слово:  [False False False False  True False False  True False  True False False\n",
      " False  True False  True  True  True  True  True False  True  True  True]\n",
      "Совпадает ли с изначальным словом:  [ True  True  True  True  True  True  True  True  True  True  True  True\n",
      "  True  True  True  True  True  True  True  True  True  True  True  True]\n"
     ]
    }
   ],
   "execution_count": 63
  },
  {
   "metadata": {
    "ExecuteTime": {
     "end_time": "2025-01-30T17:41:52.012752Z",
     "start_time": "2025-01-30T17:41:52.007183Z"
    }
   },
   "cell_type": "code",
   "source": [
    "print(\"Получившееся слово: \", w)\n",
    "\n",
    "word_err = w^errors[1]^errors[2]\n",
    "print(\"Слово с ошибкой: \", word_err)\n",
    "\n",
    "found_err = check_Golay(word_err,H,G,create_X_for_Golay()) # Нашли ошибку по таблице синдромов\n",
    "print(\"U = \", found_err)\n",
    "word_corr = word_err^found_err\n",
    "print(\"Исправленное слово: \", word_corr)\n",
    "print(\"Совпадает ли с изначальным словом: \", word_corr == w)\n",
    "\n",
    "# Обнаружил ошибку и исправил ее"
   ],
   "id": "d0f84e5f4ce3f887",
   "outputs": [
    {
     "name": "stdout",
     "output_type": "stream",
     "text": [
      "Получившееся слово:  [False False False False  True False False  True False  True False False\n",
      " False  True False  True  True  True  True  True False  True  True  True]\n",
      "Слово с ошибкой:  [False  True  True False  True False False  True False  True False False\n",
      " False  True False  True  True  True  True  True False  True  True  True]\n",
      "[False  True  True False False False False False False False False False\n",
      " False False False False False False False False False False False False]\n",
      "U =  [False  True  True False False False False False False False False False\n",
      " False False False False False False False False False False False False]\n",
      "Исправленное слово:  [False False False False  True False False  True False  True False False\n",
      " False  True False  True  True  True  True  True False  True  True  True]\n",
      "Совпадает ли с изначальным словом:  [ True  True  True  True  True  True  True  True  True  True  True  True\n",
      "  True  True  True  True  True  True  True  True  True  True  True  True]\n"
     ]
    }
   ],
   "execution_count": 64
  },
  {
   "metadata": {
    "ExecuteTime": {
     "end_time": "2025-01-30T17:42:11.296208Z",
     "start_time": "2025-01-30T17:42:11.288718Z"
    }
   },
   "cell_type": "code",
   "source": [
    "print(\"Получившееся слово: \", w)\n",
    "\n",
    "word_err = w^errors[1]^errors[2]^errors[3]\n",
    "print(\"Слово с ошибкой: \", word_err)\n",
    "\n",
    "found_err = check_Golay(word_err,H,G,create_X_for_Golay()) # Нашли ошибку по таблице синдромов\n",
    "print(\"U = \", found_err)\n",
    "word_corr = word_err^found_err\n",
    "print(\"Исправленное слово: \", word_corr)\n",
    "print(\"Совпадает ли с изначальным словом: \", word_corr == w)\n",
    "\n",
    "# Обнаружил ошибку и исправил ее"
   ],
   "id": "6dd1075ad7ddf84",
   "outputs": [
    {
     "name": "stdout",
     "output_type": "stream",
     "text": [
      "Получившееся слово:  [False False False False  True False False  True False  True False False\n",
      " False  True False  True  True  True  True  True False  True  True  True]\n",
      "Слово с ошибкой:  [False  True  True  True  True False False  True False  True False False\n",
      " False  True False  True  True  True  True  True False  True  True  True]\n",
      "[False  True  True  True False False False False False False False False\n",
      " False False False False False False False False False False False False]\n",
      "U =  [False  True  True  True False False False False False False False False\n",
      " False False False False False False False False False False False False]\n",
      "Исправленное слово:  [False False False False  True False False  True False  True False False\n",
      " False  True False  True  True  True  True  True False  True  True  True]\n",
      "Совпадает ли с изначальным словом:  [ True  True  True  True  True  True  True  True  True  True  True  True\n",
      "  True  True  True  True  True  True  True  True  True  True  True  True]\n"
     ]
    }
   ],
   "execution_count": 66
  },
  {
   "metadata": {
    "ExecuteTime": {
     "end_time": "2025-01-30T17:42:59.981510Z",
     "start_time": "2025-01-30T17:42:59.965992Z"
    }
   },
   "cell_type": "code",
   "source": [
    "print(\"Получившееся слово: \", w)\n",
    "\n",
    "word_err = w^errors[1]^errors[2]^errors[3]^errors[0]\n",
    "print(\"Слово с ошибкой: \", word_err)\n",
    "\n",
    "found_err = check_Golay(word_err,H,G,create_X_for_Golay()) # Нашли ошибку по таблице синдромов\n",
    "print(\"U = \", found_err)\n",
    "word_corr = word_err^found_err\n",
    "print(\"Исправленное слово: \", word_corr)\n",
    "print(\"Совпадает ли с изначальным словом: \", word_corr == w)\n",
    "\n",
    "# Не обнаружил ошибку"
   ],
   "id": "1dfd2cf27e4da208",
   "outputs": [
    {
     "name": "stdout",
     "output_type": "stream",
     "text": [
      "Получившееся слово:  [False False False False  True False False  True False  True False False\n",
      " False  True False  True  True  True  True  True False  True  True  True]\n",
      "Слово с ошибкой:  [ True  True  True  True  True False False  True False  True False False\n",
      " False  True False  True  True  True  True  True False  True  True  True]\n",
      "U =  None\n"
     ]
    },
    {
     "ename": "TypeError",
     "evalue": "unsupported operand type(s) for ^: 'bool' and 'NoneType'",
     "output_type": "error",
     "traceback": [
      "\u001B[1;31m---------------------------------------------------------------------------\u001B[0m",
      "\u001B[1;31mTypeError\u001B[0m                                 Traceback (most recent call last)",
      "Cell \u001B[1;32mIn[67], line 8\u001B[0m\n\u001B[0;32m      6\u001B[0m found_err \u001B[38;5;241m=\u001B[39m check_Golay(word_err,H,G,create_X_for_Golay()) \u001B[38;5;66;03m# Нашли ошибку по таблице синдромов\u001B[39;00m\n\u001B[0;32m      7\u001B[0m \u001B[38;5;28mprint\u001B[39m(\u001B[38;5;124m\"\u001B[39m\u001B[38;5;124mU = \u001B[39m\u001B[38;5;124m\"\u001B[39m, found_err)\n\u001B[1;32m----> 8\u001B[0m word_corr \u001B[38;5;241m=\u001B[39m \u001B[43mword_err\u001B[49m\u001B[38;5;241;43m^\u001B[39;49m\u001B[43mfound_err\u001B[49m\n\u001B[0;32m      9\u001B[0m \u001B[38;5;28mprint\u001B[39m(\u001B[38;5;124m\"\u001B[39m\u001B[38;5;124mИсправленное слово: \u001B[39m\u001B[38;5;124m\"\u001B[39m, word_corr)\n\u001B[0;32m     10\u001B[0m \u001B[38;5;28mprint\u001B[39m(\u001B[38;5;124m\"\u001B[39m\u001B[38;5;124mСовпадает ли с изначальным словом: \u001B[39m\u001B[38;5;124m\"\u001B[39m, word_corr \u001B[38;5;241m==\u001B[39m w)\n",
      "\u001B[1;31mTypeError\u001B[0m: unsupported operand type(s) for ^: 'bool' and 'NoneType'"
     ]
    }
   ],
   "execution_count": 67
  },
  {
   "metadata": {},
   "cell_type": "markdown",
   "source": [
    "### Часть 2\n",
    "#### 4.3"
   ],
   "id": "1ceae8673e17663e"
  },
  {
   "metadata": {
    "ExecuteTime": {
     "end_time": "2025-01-30T19:10:23.692729Z",
     "start_time": "2025-01-30T19:10:23.686704Z"
    }
   },
   "cell_type": "code",
   "source": [
    "def inner_shape(matr, dimension):\n",
    "    ndims = matr.ndim\n",
    "    if ndims == 1 and dimension == 1:\n",
    "        return matr.shape[0]\n",
    "    elif ndims == 1 and dimension == 0:\n",
    "        return 1\n",
    "    elif ndims == 2:\n",
    "        return matr.shape[dimension]\n",
    "    else:\n",
    "        print(\"Unidefined dimension error\")\n",
    "        return -1\n",
    "        \n",
    "        \n",
    "\n",
    "def create_G_for_RM(r,m):\n",
    "    if(r==0):\n",
    "        G = np.ones((pow(2,m)),dtype=bool)\n",
    "        return G\n",
    "    if(r==m):\n",
    "        G_up = create_G_for_RM(m-1,m)\n",
    "        G = np.vstack((G_up,np.zeros((inner_shape(G_up,1)),dtype=bool)))\n",
    "        G[-1,-1] = True\n",
    "        return G\n",
    "    \n",
    "    G_rm1 = create_G_for_RM(r,m-1)\n",
    "    G_r1m1 = create_G_for_RM(r-1,m-1)\n",
    "    G_up = np.hstack((G_rm1,G_rm1))\n",
    "    G_down = None\n",
    "    \n",
    "    if (inner_shape(G_r1m1,0)) == 1:\n",
    "        G_down = np.hstack((np.zeros((inner_shape(G_rm1,1)),dtype=bool),G_r1m1))\n",
    "    else:\n",
    "        G_down = np.hstack((np.zeros(((inner_shape(G_r1m1,0),inner_shape(G_rm1,1))),dtype=bool),G_r1m1))\n",
    "    \n",
    "    \n",
    "    G = np.vstack((G_up,G_down))\n",
    "    return G"
   ],
   "id": "be395ca6888c9cd3",
   "outputs": [],
   "execution_count": 209
  },
  {
   "metadata": {
    "ExecuteTime": {
     "end_time": "2025-01-30T20:07:02.862603Z",
     "start_time": "2025-01-30T20:07:02.859496Z"
    }
   },
   "cell_type": "code",
   "source": [
    "print(\"G = \")\n",
    "print(LinearCode(create_G_for_RM(1,3)))"
   ],
   "id": "93175c49dc38fd0f",
   "outputs": [
    {
     "name": "stdout",
     "output_type": "stream",
     "text": [
      "G = \n",
      "[1 1 1 1 1 1 1 1]\n",
      "[0 1 0 1 0 1 0 1]\n",
      "[0 0 1 1 0 0 1 1]\n",
      "[0 0 0 0 1 1 1 1]\n",
      "\n"
     ]
    }
   ],
   "execution_count": 229
  },
  {
   "metadata": {
    "ExecuteTime": {
     "end_time": "2025-01-30T19:24:56.437339Z",
     "start_time": "2025-01-30T19:24:56.431194Z"
    }
   },
   "cell_type": "code",
   "source": [
    "def kronekers_mult(A,B):\n",
    "    i_stack = None\n",
    "    for i in range(A.shape[0]):\n",
    "        j_stack = None\n",
    "        for j in range(A.shape[1]):\n",
    "            aijB = A[i,j]*B\n",
    "            if j_stack is None:\n",
    "                j_stack = aijB\n",
    "            else:\n",
    "                j_stack = np.hstack((j_stack,aijB))\n",
    "                \n",
    "        if i_stack is None:\n",
    "            i_stack = j_stack\n",
    "        else:\n",
    "            i_stack = np.vstack((i_stack,j_stack))\n",
    "            \n",
    "    return i_stack\n",
    "\n",
    "print(kronekers_mult(np.array([[1,1],[1,-1]]),np.array([[1,0],[0,1]])))           "
   ],
   "id": "d4171e0f25c7b8b5",
   "outputs": [
    {
     "name": "stdout",
     "output_type": "stream",
     "text": [
      "[[ 1  0  1  0]\n",
      " [ 0  1  0  1]\n",
      " [ 1  0 -1  0]\n",
      " [ 0  1  0 -1]]\n"
     ]
    }
   ],
   "execution_count": 221
  },
  {
   "metadata": {
    "ExecuteTime": {
     "end_time": "2025-01-30T20:06:00.855664Z",
     "start_time": "2025-01-30T20:06:00.851446Z"
    }
   },
   "cell_type": "code",
   "source": [
    "def create_Him_for_RM(i,m):\n",
    "    Imi = np.eye(pow(2,m-i),dtype=int)\n",
    "    Ii1 = np.eye(pow(2,i-1),dtype=int)\n",
    "    H = np.array([[1,1],[1,-1]],dtype=int)\n",
    "    Him = kronekers_mult(kronekers_mult(Imi,H),Ii1)\n",
    "    return Him\n",
    "\n",
    "print(\"Him = \")\n",
    "print(create_Him_for_RM(3,3))"
   ],
   "id": "f06d37f8472675bf",
   "outputs": [
    {
     "name": "stdout",
     "output_type": "stream",
     "text": [
      "Him = \n",
      "[[ 1  0  0  0  1  0  0  0]\n",
      " [ 0  1  0  0  0  1  0  0]\n",
      " [ 0  0  1  0  0  0  1  0]\n",
      " [ 0  0  0  1  0  0  0  1]\n",
      " [ 1  0  0  0 -1  0  0  0]\n",
      " [ 0  1  0  0  0 -1  0  0]\n",
      " [ 0  0  1  0  0  0 -1  0]\n",
      " [ 0  0  0  1  0  0  0 -1]]\n"
     ]
    }
   ],
   "execution_count": 228
  },
  {
   "metadata": {
    "ExecuteTime": {
     "end_time": "2025-01-30T21:00:24.024327Z",
     "start_time": "2025-01-30T21:00:24.020219Z"
    }
   },
   "cell_type": "code",
   "source": [
    "G, H = create_G_for_RM(1,3), create_Him_for_RM(1,3)\n",
    "\n",
    "print(\"H = \")\n",
    "print(H)\n",
    "print(\"G = \")\n",
    "print(LinearCode(G))\n"
   ],
   "id": "538e8a87e0354340",
   "outputs": [
    {
     "name": "stdout",
     "output_type": "stream",
     "text": [
      "H = \n",
      "[[ 1  1  0  0  0  0  0  0]\n",
      " [ 1 -1  0  0  0  0  0  0]\n",
      " [ 0  0  1  1  0  0  0  0]\n",
      " [ 0  0  1 -1  0  0  0  0]\n",
      " [ 0  0  0  0  1  1  0  0]\n",
      " [ 0  0  0  0  1 -1  0  0]\n",
      " [ 0  0  0  0  0  0  1  1]\n",
      " [ 0  0  0  0  0  0  1 -1]]\n",
      "G = \n",
      "[1 1 1 1 1 1 1 1]\n",
      "[0 1 0 1 0 1 0 1]\n",
      "[0 0 1 1 0 0 1 1]\n",
      "[0 0 0 0 1 1 1 1]\n",
      "\n"
     ]
    }
   ],
   "execution_count": 286
  },
  {
   "metadata": {},
   "cell_type": "markdown",
   "source": "#### 4.4",
   "id": "38d3f201813e4aaa"
  },
  {
   "metadata": {
    "ExecuteTime": {
     "end_time": "2025-01-30T21:00:26.135684Z",
     "start_time": "2025-01-30T21:00:26.128453Z"
    }
   },
   "cell_type": "code",
   "source": [
    "def to_binary_int(n):\n",
    "    return int(bin(n)[2:])\n",
    "\n",
    "def to_binary_np(n,m):\n",
    "    return np.array(list(reversed(list(np.binary_repr(n, width=m)))), dtype=int)\n",
    "\n",
    "def to_binary_v(a, m):\n",
    "    n = format(a, 'b')\n",
    "    res = np.zeros(m, dtype=int)\n",
    "    for i in range(len(n)):\n",
    "        res[i] = int(n[len(n) - i - 1])\n",
    "    return res\n",
    "\n",
    "def check_RM(w,m):\n",
    "    w_new = np.zeros(w.shape[0],dtype=int)\n",
    "    for i in range(w.shape[0]):\n",
    "        w_new[i] = 1 if w[i] else -1 \n",
    "    \n",
    "    wi = w_new @ create_Him_for_RM(1,m)\n",
    "    for i in range(2,m+1):\n",
    "        wi = wi @ create_Him_for_RM(i,m)\n",
    "    j = (np.abs(wi)).argmax()\n",
    "    \n",
    "    if(wi[j]>=0):\n",
    "        return np.hstack((1,to_binary_np(j,m)))\n",
    "    else:\n",
    "        return np.hstack((0,to_binary_np(j,m)))\n",
    "    "
   ],
   "id": "d471a49cef73e735",
   "outputs": [],
   "execution_count": 287
  },
  {
   "metadata": {
    "ExecuteTime": {
     "end_time": "2025-01-30T21:00:28.008063Z",
     "start_time": "2025-01-30T21:00:28.001612Z"
    }
   },
   "cell_type": "code",
   "source": [
    "sw = [False,False,True,True]\n",
    "w = mult(sw,G)\n",
    "print(\"Получившееся слово: \", w)\n",
    "\n",
    "word_corr = check_RM(w,3)\n",
    "print(\"Декодированное слово: \", word_corr)\n",
    "print(\"Совпадает ли с изначальным словом: \", word_corr == sw)\n",
    "# Декодированное слово совпадает с исходным"
   ],
   "id": "61a6dd86b8bb3535",
   "outputs": [
    {
     "name": "stdout",
     "output_type": "stream",
     "text": [
      "Получившееся слово:  [False False  True  True  True  True False False]\n",
      "Декодированное слово:  [0 0 1 1]\n",
      "Совпадает ли с изначальным словом:  [ True  True  True  True]\n"
     ]
    }
   ],
   "execution_count": 288
  },
  {
   "metadata": {
    "ExecuteTime": {
     "end_time": "2025-01-30T21:00:30.339493Z",
     "start_time": "2025-01-30T21:00:30.333416Z"
    }
   },
   "cell_type": "code",
   "source": [
    "errors = np.eye(G.shape[1], dtype=bool)\n",
    "\n",
    "sw = [False,False,True,True]\n",
    "w = mult(sw,G)\n",
    "print(\"Получившееся слово: \", w)\n",
    "\n",
    "word_err = w^errors[1]\n",
    "print(\"Слово с ошибкой: \", word_err)\n",
    "\n",
    "word_corr = check_RM(word_err,3)\n",
    "print(\"Исправленное слово: \", word_corr)\n",
    "print(\"Совпадает ли с изначальным словом: \", word_corr == sw)\n",
    "# Декодированное слово совпадает с исходным, ошибка исправлена"
   ],
   "id": "425718572ce9a412",
   "outputs": [
    {
     "name": "stdout",
     "output_type": "stream",
     "text": [
      "Получившееся слово:  [False False  True  True  True  True False False]\n",
      "Слово с ошибкой:  [False  True  True  True  True  True False False]\n",
      "Исправленное слово:  [0 0 1 1]\n",
      "Совпадает ли с изначальным словом:  [ True  True  True  True]\n"
     ]
    }
   ],
   "execution_count": 289
  },
  {
   "metadata": {
    "ExecuteTime": {
     "end_time": "2025-01-30T21:00:32.148579Z",
     "start_time": "2025-01-30T21:00:32.142761Z"
    }
   },
   "cell_type": "code",
   "source": [
    "errors = np.eye(G.shape[1], dtype=bool)\n",
    "\n",
    "sw = [False,False,True,True]\n",
    "w = mult(sw,G)\n",
    "print(\"Получившееся слово: \", w)\n",
    "\n",
    "word_err = w^errors[1]^errors[2]\n",
    "print(\"Слово с ошибкой: \", word_err)\n",
    "\n",
    "word_corr = check_RM(word_err,3)\n",
    "print(\"Исправленное слово: \", word_corr)\n",
    "print(\"Совпадает ли с изначальным словом: \", word_corr == sw)\n",
    "# Декодированное слово не совпадает с исходным, ошибка не исправлена"
   ],
   "id": "89f8ef9e6d582b9e",
   "outputs": [
    {
     "name": "stdout",
     "output_type": "stream",
     "text": [
      "Получившееся слово:  [False False  True  True  True  True False False]\n",
      "Слово с ошибкой:  [False  True False  True  True  True False False]\n",
      "Исправленное слово:  [0 1 0 0]\n",
      "Совпадает ли с изначальным словом:  [ True False False False]\n"
     ]
    }
   ],
   "execution_count": 290
  },
  {
   "metadata": {},
   "cell_type": "markdown",
   "source": "#### 4.5",
   "id": "536ac7a87fc7a12d"
  },
  {
   "metadata": {
    "ExecuteTime": {
     "end_time": "2025-01-30T21:00:34.261002Z",
     "start_time": "2025-01-30T21:00:34.254709Z"
    }
   },
   "cell_type": "code",
   "source": [
    "m = 4\n",
    "\n",
    "G, H = create_G_for_RM(1,m), create_Him_for_RM(1,m)\n",
    "\n",
    "print(\"H = \")\n",
    "print(H)\n",
    "print(\"G = \")\n",
    "print(LinearCode(G))\n"
   ],
   "id": "c341e67c0ed7e344",
   "outputs": [
    {
     "name": "stdout",
     "output_type": "stream",
     "text": [
      "H = \n",
      "[[ 1  1  0  0  0  0  0  0  0  0  0  0  0  0  0  0]\n",
      " [ 1 -1  0  0  0  0  0  0  0  0  0  0  0  0  0  0]\n",
      " [ 0  0  1  1  0  0  0  0  0  0  0  0  0  0  0  0]\n",
      " [ 0  0  1 -1  0  0  0  0  0  0  0  0  0  0  0  0]\n",
      " [ 0  0  0  0  1  1  0  0  0  0  0  0  0  0  0  0]\n",
      " [ 0  0  0  0  1 -1  0  0  0  0  0  0  0  0  0  0]\n",
      " [ 0  0  0  0  0  0  1  1  0  0  0  0  0  0  0  0]\n",
      " [ 0  0  0  0  0  0  1 -1  0  0  0  0  0  0  0  0]\n",
      " [ 0  0  0  0  0  0  0  0  1  1  0  0  0  0  0  0]\n",
      " [ 0  0  0  0  0  0  0  0  1 -1  0  0  0  0  0  0]\n",
      " [ 0  0  0  0  0  0  0  0  0  0  1  1  0  0  0  0]\n",
      " [ 0  0  0  0  0  0  0  0  0  0  1 -1  0  0  0  0]\n",
      " [ 0  0  0  0  0  0  0  0  0  0  0  0  1  1  0  0]\n",
      " [ 0  0  0  0  0  0  0  0  0  0  0  0  1 -1  0  0]\n",
      " [ 0  0  0  0  0  0  0  0  0  0  0  0  0  0  1  1]\n",
      " [ 0  0  0  0  0  0  0  0  0  0  0  0  0  0  1 -1]]\n",
      "G = \n",
      "[1 1 1 1 1 1 1 1 1 1 1 1 1 1 1 1]\n",
      "[0 1 0 1 0 1 0 1 0 1 0 1 0 1 0 1]\n",
      "[0 0 1 1 0 0 1 1 0 0 1 1 0 0 1 1]\n",
      "[0 0 0 0 1 1 1 1 0 0 0 0 1 1 1 1]\n",
      "[0 0 0 0 0 0 0 0 1 1 1 1 1 1 1 1]\n",
      "\n"
     ]
    }
   ],
   "execution_count": 291
  },
  {
   "metadata": {
    "ExecuteTime": {
     "end_time": "2025-01-30T21:00:36.482265Z",
     "start_time": "2025-01-30T21:00:36.475465Z"
    }
   },
   "cell_type": "code",
   "source": [
    "sw = [False,False,True,True,False]\n",
    "w = mult(sw,G)\n",
    "print(\"Получившееся слово: \", w)\n",
    "\n",
    "word_corr = check_RM(w,m)\n",
    "print(\"Декодированное слово: \", word_corr)\n",
    "print(\"Совпадает ли с изначальным словом: \", word_corr == sw)\n",
    "# Декодированное слово совпадает с исходным"
   ],
   "id": "a1b3ad169f245789",
   "outputs": [
    {
     "name": "stdout",
     "output_type": "stream",
     "text": [
      "Получившееся слово:  [False False  True  True  True  True False False False False  True  True\n",
      "  True  True False False]\n",
      "Декодированное слово:  [0 0 1 1 0]\n",
      "Совпадает ли с изначальным словом:  [ True  True  True  True  True]\n"
     ]
    }
   ],
   "execution_count": 292
  },
  {
   "metadata": {
    "ExecuteTime": {
     "end_time": "2025-01-30T21:01:42.100627Z",
     "start_time": "2025-01-30T21:01:42.093291Z"
    }
   },
   "cell_type": "code",
   "source": [
    "errors = np.eye(G.shape[1], dtype=bool)\n",
    "\n",
    "sw = [False,False,True,True,False]\n",
    "w = mult(sw,G)\n",
    "print(\"Получившееся слово: \", w)\n",
    "\n",
    "word_err = w^errors[1]\n",
    "print(\"Слово с ошибкой: \", word_err)\n",
    "\n",
    "word_corr = check_RM(word_err,m)\n",
    "print(\"Исправленное слово: \", word_corr)\n",
    "print(\"Совпадает ли с изначальным словом: \", word_corr == sw)\n",
    "# Декодированное слово совпадает с исходным, ошибка исправлена"
   ],
   "id": "8ce580bffef4f854",
   "outputs": [
    {
     "name": "stdout",
     "output_type": "stream",
     "text": [
      "Получившееся слово:  [False False  True  True  True  True False False False False  True  True\n",
      "  True  True False False]\n",
      "Слово с ошибкой:  [False  True  True  True  True  True False False False False  True  True\n",
      "  True  True False False]\n",
      "Исправленное слово:  [0 0 1 1 0]\n",
      "Совпадает ли с изначальным словом:  [ True  True  True  True  True]\n"
     ]
    }
   ],
   "execution_count": 294
  },
  {
   "metadata": {
    "ExecuteTime": {
     "end_time": "2025-01-30T21:01:55.782162Z",
     "start_time": "2025-01-30T21:01:55.775259Z"
    }
   },
   "cell_type": "code",
   "source": [
    "errors = np.eye(G.shape[1], dtype=bool)\n",
    "\n",
    "sw = [False,False,True,True,False]\n",
    "w = mult(sw,G)\n",
    "print(\"Получившееся слово: \", w)\n",
    "\n",
    "word_err = w^errors[1]^errors[2]\n",
    "print(\"Слово с ошибкой: \", word_err)\n",
    "\n",
    "word_corr = check_RM(word_err,m)\n",
    "print(\"Исправленное слово: \", word_corr)\n",
    "print(\"Совпадает ли с изначальным словом: \", word_corr == sw)\n",
    "# Декодированное слово совпадает с исходным, ошибка исправлена"
   ],
   "id": "55fff01b96d1ae04",
   "outputs": [
    {
     "name": "stdout",
     "output_type": "stream",
     "text": [
      "Получившееся слово:  [False False  True  True  True  True False False False False  True  True\n",
      "  True  True False False]\n",
      "Слово с ошибкой:  [False  True False  True  True  True False False False False  True  True\n",
      "  True  True False False]\n",
      "Исправленное слово:  [0 0 1 1 0]\n",
      "Совпадает ли с изначальным словом:  [ True  True  True  True  True]\n"
     ]
    }
   ],
   "execution_count": 295
  },
  {
   "metadata": {
    "ExecuteTime": {
     "end_time": "2025-01-30T21:02:10.577479Z",
     "start_time": "2025-01-30T21:02:10.571282Z"
    }
   },
   "cell_type": "code",
   "source": [
    "errors = np.eye(G.shape[1], dtype=bool)\n",
    "\n",
    "sw = [False,False,True,True,False]\n",
    "w = mult(sw,G)\n",
    "print(\"Получившееся слово: \", w)\n",
    "\n",
    "word_err = w^errors[1]^errors[2]^errors[3]\n",
    "print(\"Слово с ошибкой: \", word_err)\n",
    "\n",
    "word_corr = check_RM(word_err,m)\n",
    "print(\"Исправленное слово: \", word_corr)\n",
    "print(\"Совпадает ли с изначальным словом: \", word_corr == sw)\n",
    "# Декодированное слово совпадает с исходным, ошибка исправлена"
   ],
   "id": "9807924b5bb17967",
   "outputs": [
    {
     "name": "stdout",
     "output_type": "stream",
     "text": [
      "Получившееся слово:  [False False  True  True  True  True False False False False  True  True\n",
      "  True  True False False]\n",
      "Слово с ошибкой:  [False  True False False  True  True False False False False  True  True\n",
      "  True  True False False]\n",
      "Исправленное слово:  [0 0 1 1 0]\n",
      "Совпадает ли с изначальным словом:  [ True  True  True  True  True]\n"
     ]
    }
   ],
   "execution_count": 296
  },
  {
   "metadata": {
    "ExecuteTime": {
     "end_time": "2025-01-30T21:02:38.671600Z",
     "start_time": "2025-01-30T21:02:38.663679Z"
    }
   },
   "cell_type": "code",
   "source": [
    "errors = np.eye(G.shape[1], dtype=bool)\n",
    "\n",
    "sw = [False,False,True,True,False]\n",
    "w = mult(sw,G)\n",
    "print(\"Получившееся слово: \", w)\n",
    "\n",
    "word_err = w^errors[1]^errors[2]^errors[3]^errors[0]\n",
    "print(\"Слово с ошибкой: \", word_err)\n",
    "\n",
    "word_corr = check_RM(word_err,m)\n",
    "print(\"Исправленное слово: \", word_corr)\n",
    "print(\"Совпадает ли с изначальным словом: \", word_corr == sw)\n",
    "# Декодированное слово не совпадает с исходным, ошибка не исправлена"
   ],
   "id": "8e7f767dd2f89e8b",
   "outputs": [
    {
     "name": "stdout",
     "output_type": "stream",
     "text": [
      "Получившееся слово:  [False False  True  True  True  True False False False False  True  True\n",
      "  True  True False False]\n",
      "Слово с ошибкой:  [ True  True False False  True  True False False False False  True  True\n",
      "  True  True False False]\n",
      "Исправленное слово:  [1 0 1 0 0]\n",
      "Совпадает ли с изначальным словом:  [False  True  True False  True]\n"
     ]
    }
   ],
   "execution_count": 298
  }
 ],
 "metadata": {
  "kernelspec": {
   "display_name": "Python 3 (ipykernel)",
   "language": "python",
   "name": "python3"
  },
  "language_info": {
   "codemirror_mode": {
    "name": "ipython",
    "version": 3
   },
   "file_extension": ".py",
   "mimetype": "text/x-python",
   "name": "python",
   "nbconvert_exporter": "python",
   "pygments_lexer": "ipython3",
   "version": "3.11.2"
  }
 },
 "nbformat": 4,
 "nbformat_minor": 5
}
